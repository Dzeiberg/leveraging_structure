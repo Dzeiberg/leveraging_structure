{
 "cells": [
  {
   "cell_type": "code",
   "execution_count": null,
   "id": "d3964a7c",
   "metadata": {},
   "outputs": [],
   "source": [
    "slurmHeader = lambda job_name,array_vals: f\"\"\"#!/bin/bash\n",
    "#SBATCH --job-name={job_name}\n",
    "#SBATCH --mem=16Gb\n",
    "#SBATCH --time=23:00:00\n",
    "#SBATCH --cpus-per-task=16 # 16 threads per task\n",
    "#SBATCH --partition=short\n",
    "#SBATCH --output=\"output/{job_name}.%A.%a.out\"\n",
    "#SBATCH --error=\"output/{job_name}.%A.%a.err\"\n",
    "#SBATCH --array={array_vals}\n",
    "eval \"$(conda shell.bash hook)\"\n",
    "conda activate st2\n",
    "cd /home/zeiberg.d/LEVERAGING_STRUCTURE_CODE_APPENDIX/\n",
    "\"\"\""
   ]
  },
  {
   "cell_type": "code",
   "execution_count": null,
   "id": "464e17a8",
   "metadata": {},
   "outputs": [],
   "source": [
    "print(slurmHeader(\"test\",\",\".join([str(s) for s in [1,3,5,7]])))"
   ]
  },
  {
   "cell_type": "code",
   "execution_count": null,
   "id": "875d9851",
   "metadata": {},
   "outputs": [],
   "source": [
    "acsRunCommand = lambda problem_name,problem_setting: f\"srun python runExperiment.py --root_dir /scratch/zeiberg.d/folktables/ \\\n",
    "--experimentPath /scratch/zeiberg.d/leveragingStructureFinalExperiments/experiments/{problem_name}_setting_{problem_setting}_$SLURM_ARRAY_TASK_ID \\\n",
    "--datasetType acs --problem_setting {problem_setting} --problem_name {problem_name}\""
   ]
  },
  {
   "cell_type": "code",
   "execution_count": null,
   "id": "e119dc98",
   "metadata": {},
   "outputs": [],
   "source": [
    "amazonRunCommand = lambda problem_setting: f\"srun python runExperiment.py \\\n",
    "--experimentPath /scratch/zeiberg.d/leveragingStructureFinalExperiments/experiments/amazon_reviews_setting_{problem_setting}_$SLURM_ARRAY_TASK_ID \\\n",
    "--datasetType huggingface --problem_name amazon_reviews_multi --pca True\""
   ]
  },
  {
   "cell_type": "code",
   "execution_count": null,
   "id": "8a7ee699",
   "metadata": {},
   "outputs": [],
   "source": [
    "syntheticRunCommand = lambda problem_setting, syntheticDim, syntheticNClusters: f\"\"\"srun python runExperiment.py \\\n",
    "--experimentPath /scratch/zeiberg.d/leveragingStructureFinalExperiments/experiments/synthetic_dim_{syntheticDim}_nClusters_{syntheticNClusters}_setting_{problem_setting}_$SLURM_ARRAY_TASK_ID \\\n",
    "--datasetType synthetic --problem_name synthetic --problem_setting {problem_setting} --syntheticDim {syntheticDim} \\\n",
    "--syntheticNClusters {syntheticNClusters}\"\"\""
   ]
  },
  {
   "cell_type": "code",
   "execution_count": null,
   "id": "f9053442",
   "metadata": {},
   "outputs": [],
   "source": [
    "syntheticExperimentParameterGrid = {\n",
    "    \"problem_setting\" : [1,2],\n",
    "    \"syntheticDim\" : [1,4,16,64],\n",
    "    \"syntheticNClusters\" : [1,2,4,8],\n",
    "}"
   ]
  },
  {
   "cell_type": "code",
   "execution_count": null,
   "id": "9ffdf76b",
   "metadata": {},
   "outputs": [],
   "source": [
    "missingDict = {(1, 4, 1): '16,18,15,17,19,20',\n",
    " (4, 1, 1): '1,2',\n",
    " (16, 2, 1): '6,5',\n",
    " (16, 8, 1): '14,12,18,17,23,15,22,19,24,21,11,20,16,13',\n",
    " (64, 1, 1): '24',\n",
    " (64, 2, 1): '2',\n",
    " (1, 8, 2): '23',\n",
    " (16, 4, 2): '24',\n",
    " (16, 8, 2): '16,8,7,17,15,10,11,19,13,6,14,9,12,18',\n",
    " (64, 1, 2): '1,0',\n",
    " (64, 8, 2): '9'}"
   ]
  },
  {
   "cell_type": "code",
   "execution_count": null,
   "id": "03c8bfed",
   "metadata": {},
   "outputs": [],
   "source": [
    "from itertools import product"
   ]
  },
  {
   "cell_type": "code",
   "execution_count": null,
   "id": "7becfac5",
   "metadata": {},
   "outputs": [],
   "source": [
    "mkdir -p scripts/slurmScriptsMissing/output"
   ]
  },
  {
   "cell_type": "code",
   "execution_count": null,
   "id": "7bc89084",
   "metadata": {},
   "outputs": [],
   "source": [
    "for (problem_setting,syntheticDim,syntheticNClusters) in product(*list(syntheticExperimentParameterGrid.values())):\n",
    "    if (syntheticDim,syntheticNClusters,problem_setting) in missingDict:\n",
    "        with open(f\"scripts/slurmScriptsMissing/run_synthetic_dim_{syntheticDim}_nClusters_{syntheticNClusters}_setting_{problem_setting}.sh\",\"w\") as f:\n",
    "            f.write(slurmHeader(f\"synthetic_dim_{syntheticDim}_nClusters_{syntheticNClusters}_setting_{problem_setting}\",\n",
    "                               missingDict[(syntheticDim,syntheticNClusters,problem_setting)]))\n",
    "            f.write(syntheticRunCommand(problem_setting,syntheticDim, syntheticNClusters))"
   ]
  },
  {
   "cell_type": "code",
   "execution_count": null,
   "id": "1cbfda76",
   "metadata": {},
   "outputs": [],
   "source": [
    "acsParameterGrid = {\n",
    "    \"problem_setting\" : [1,2],\n",
    "    \"problem_name\" : [\"income\", \"income_poverty_ratio\",\"employment\"],\n",
    "}"
   ]
  },
  {
   "cell_type": "code",
   "execution_count": null,
   "id": "034c823a",
   "metadata": {},
   "outputs": [],
   "source": [
    "for (problem_setting,problem_name) in product(*list(acsParameterGrid.values())):\n",
    "    if problem_name == \"income_poverty_ratio\":\n",
    "        nums = \"11,12,13,14\"\n",
    "    elif problem_name == \"income\":\n",
    "        nums = \"21\"\n",
    "    else:\n",
    "        continue\n",
    "    with open(f\"scripts/slurmScriptsMissing/run_{problem_name}_setting_{problem_setting}.sh\",\"w\") as f:\n",
    "        f.write(slurmHeader(f\"{problem_name}_setting_{problem_setting}\",nums))\n",
    "        f.write(acsRunCommand(problem_name,problem_setting))"
   ]
  },
  {
   "cell_type": "code",
   "execution_count": null,
   "id": "627d7931",
   "metadata": {},
   "outputs": [],
   "source": [
    "for problem_setting in [1,2]:\n",
    "    with open(f\"scripts/slurmScripts/run_amazon_reviews_multi_setting_{problem_setting}.sh\",\"w\") as f:\n",
    "        f.write(slurmHeader(f\"amazon_reviews_multi_setting_{problem_setting}\"))\n",
    "        f.write(amazonRunCommand(problem_setting))"
   ]
  },
  {
   "cell_type": "code",
   "execution_count": null,
   "id": "7a99d358",
   "metadata": {},
   "outputs": [],
   "source": []
  }
 ],
 "metadata": {
  "language_info": {
   "name": "python",
   "pygments_lexer": "ipython3"
  }
 },
 "nbformat": 4,
 "nbformat_minor": 5
}
