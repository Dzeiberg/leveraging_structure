{
 "cells": [
  {
   "cell_type": "code",
   "execution_count": null,
   "metadata": {},
   "outputs": [],
   "source": [
    "from glob import glob\n",
    "import numpy as np\n",
    "import matplotlib.pyplot as plt\n",
    "import os\n",
    "from tqdm.notebook import tqdm\n",
    "import itertools\n",
    "from sklearn.metrics import roc_auc_score\n",
    "import pandas as pd\n",
    "import pickle"
   ]
  },
  {
   "cell_type": "code",
   "execution_count": null,
   "metadata": {},
   "outputs": [],
   "source": [
    "EXP_ROOT = \"/scratch/zeiberg.d/leveragingStructureFinalExperiments/experiments/\""
   ]
  },
  {
   "cell_type": "code",
   "execution_count": null,
   "metadata": {},
   "outputs": [],
   "source": [
    "REAL_DATASETS = [\"income\",\"employment\",\"income_poverty_ratio\",\"amazon_reviews\"]"
   ]
  },
  {
   "cell_type": "code",
   "execution_count": null,
   "metadata": {},
   "outputs": [],
   "source": [
    "class Experiment:\n",
    "    def __init__(self,pth):\n",
    "        self.path = pth\n",
    "        self.loadLabels()\n",
    "        self.loadPreds()\n",
    "\n",
    "    def loadLabels(self):\n",
    "        try:\n",
    "            self.yUnlabeledTest = np.load(os.path.join(self.path,\n",
    "                                                      \"yUnlabeledTest.npy\"))\n",
    "        except FileNotFoundError:\n",
    "            self.yUnlabeledTest = None\n",
    "            \n",
    "    def loadLabels(self):\n",
    "        try:\n",
    "            self.yUnlabeledTest = np.load(os.path.join(self.path,\n",
    "                                                      \"yUnlabeledTest.npy\"))\n",
    "        except FileNotFoundError:\n",
    "            self.yUnlabeledTest = None\n",
    "\n",
    "    def getK(self):\n",
    "        if not np.isnan(self.k):\n",
    "            return self.k\n",
    "        try:\n",
    "            with open(os.path.join(self.path,\"mm\",\"clusterer.pkl\"),\"rb\") as f:\n",
    "                clusterer = pickle.load(f)\n",
    "                self.clusterer = clusterer\n",
    "            self.k = clusterer.n_clusters\n",
    "        except FileNotFoundError:\n",
    "            self.k = np.nan\n",
    "        return self.k\n",
    "        \n",
    "    def loadPreds(self,skipsteps=[]):\n",
    "        self.methodPreds = {}\n",
    "        try:\n",
    "            self.methodPreds[\"Group-Aware Global\"] = np.load(os.path.join(self.path,\n",
    "                                                                        \"ag\",\n",
    "                                                                        \"preds.npy\"))\n",
    "        except FileNotFoundError:\n",
    "            return\n",
    "        try:\n",
    "            self.methodPreds[\"Cluster Global\"] = np.load(os.path.join(self.path,\n",
    "                                                                      \"mm\",\n",
    "                                                                      \"clusterGlobalPreds.npy\"))\n",
    "\n",
    "            self.methodPreds[\"Our Method\"] = np.load(os.path.join(self.path,\n",
    "                                                          \"mm\",\n",
    "                                                          \"preds.npy\"))\n",
    "        except FileNotFoundError:\n",
    "            return\n",
    "        \n",
    "        try:\n",
    "            self.methodPreds[\"Global Star\"] = np.load(os.path.join(self.path,\n",
    "                                                            \"mmStar\",\n",
    "                                                            \"clusterGlobalPreds.npy\"))\n",
    "            self.methodPreds[\"Star\"] = np.load(os.path.join(self.path,\n",
    "                                                            \"mmStar\",\n",
    "                                                            \"preds.npy\"))\n",
    "        except FileNotFoundError:\n",
    "            return\n",
    "        \n",
    "        try:\n",
    "            self.methodPreds[\"Global\"] = np.load(os.path.join(self.path,\n",
    "                                                              \"mm2\",\n",
    "                                                              \"clusterGlobalPreds.npy\"))\n",
    "\n",
    "            self.methodPreds[\"Label Shift\"] = np.load(os.path.join(self.path,\n",
    "                                                                   \"mm2\",\n",
    "                                                                   \"Preds.npy\"))\n",
    "\n",
    "        except FileNotFoundError:\n",
    "            return\n",
    "        try:\n",
    "            self.methodPreds[\"coral\"] = np.load(os.path.join(self.path,\n",
    "                                                            \"fe\",\n",
    "                                                            \"preds.npy\"))\n",
    "        except FileNotFoundError:\n",
    "            return\n",
    "    def aucSeries(self):\n",
    "        names, vals = list(zip(*[(m,roc_auc_score(self.yUnlabeledTest,preds)) for m,preds in self.methodPreds.items()]))\n",
    "        return pd.Series(data=vals,index=names)"
   ]
  },
  {
   "cell_type": "code",
   "execution_count": null,
   "metadata": {},
   "outputs": [],
   "source": [
    "exp_sets = {}\n",
    "for setting in range(1,3):\n",
    "    for name in REAL_DATASETS:\n",
    "        print(setting,name)\n",
    "        exp_sets[(name,setting)] = [Experiment(pth) for pth in glob(f\"/scratch/zeiberg.d/leveragingStructureFinalExperiments/experiments/{name}_setting_{setting}_*/\")]"
   ]
  },
  {
   "cell_type": "code",
   "execution_count": null,
   "metadata": {},
   "outputs": [],
   "source": [
    "synth_exp_sets = {}\n",
    "for setting in range(1,3):\n",
    "    for dim in [1,4,16,64]:\n",
    "        for nClusters in [1,2,4,8]:\n",
    "            print(setting,dim,nClusters)\n",
    "            synth_exp_sets[(setting,dim,nClusters)] = [Experiment(pth) for pth in \\\n",
    "                                                      glob(os.path.join(EXP_ROOT,f\"synthetic_dim_{dim}_nClusters_{nClusters}_setting_{setting}_*/\")) \\\n",
    "                                                      if \"FAILED\" not in pth]"
   ]
  },
  {
   "cell_type": "code",
   "execution_count": null,
   "metadata": {},
   "outputs": [],
   "source": [
    "tables = {}\n",
    "for k,exps in exp_sets.items():\n",
    "    print(k)\n",
    "    series = []\n",
    "    for e in exps:\n",
    "        try:\n",
    "            series.append(e.aucSeries())\n",
    "        except ValueError:\n",
    "            print(e.path)\n",
    "    tables[k] = pd.DataFrame(series)"
   ]
  },
  {
   "cell_type": "code",
   "execution_count": null,
   "metadata": {},
   "outputs": [],
   "source": [
    "import pathlib\n",
    "\n",
    "missing = []\n",
    "for k,exps in exp_sets.items():\n",
    "    rt = pathlib.Path(exps[0].path).name\n",
    "    rt = rt[:rt.rfind(\"_\")]\n",
    "    exp_names = set([pathlib.Path(e.path).name for e in exps])\n",
    "    for num in range(25):\n",
    "        pth = rt+f\"_{num}\"\n",
    "        if pth not in exp_names:\n",
    "            missing.append(pth)"
   ]
  },
  {
   "cell_type": "code",
   "execution_count": null,
   "metadata": {},
   "outputs": [],
   "source": [
    "missing"
   ]
  },
  {
   "cell_type": "code",
   "execution_count": null,
   "metadata": {},
   "outputs": [],
   "source": [
    "synth_tables = {}\n",
    "synth_missing = []\n",
    "for k,exps in synth_exp_sets.items():\n",
    "    series = []\n",
    "    for e in exps:\n",
    "        try:\n",
    "            series.append(e.aucSeries())\n",
    "        except ValueError:\n",
    "            p = pathlib.Path(e.path).name\n",
    "            print(\"cannot process \",p)\n",
    "            synth_missing.append(p)\n",
    "            continue\n",
    "    synth_tables[k] = pd.DataFrame(series)"
   ]
  },
  {
   "cell_type": "code",
   "execution_count": null,
   "metadata": {},
   "outputs": [],
   "source": [
    "len(synth_missing)"
   ]
  },
  {
   "cell_type": "code",
   "execution_count": null,
   "metadata": {},
   "outputs": [],
   "source": [
    "synth_missing"
   ]
  },
  {
   "cell_type": "code",
   "execution_count": null,
   "metadata": {},
   "outputs": [],
   "source": [
    "missing_dict = {}\n",
    "for setting in range(1,3):\n",
    "    for dim in [1,4,16,64]:\n",
    "        for nClusters in [1,2,4,8]:\n",
    "            template = f\"synthetic_dim_{dim}_nClusters_{nClusters}_setting_{setting}_\"\n",
    "            names = [e for e in synth_missing if template in e]\n",
    "            if len(names):\n",
    "                missing_dict[(dim,nClusters,setting)] = \",\".join([n[n.rfind(\"_\")+1:] for n in names])"
   ]
  },
  {
   "cell_type": "markdown",
   "metadata": {},
   "source": [
    "### Real-Data Experiment Iteration Counts `with` CORAL"
   ]
  },
  {
   "cell_type": "code",
   "execution_count": null,
   "metadata": {},
   "outputs": [],
   "source": [
    "[(n,t.dropna().shape[0]) for n,t in tables.items()]"
   ]
  },
  {
   "cell_type": "code",
   "execution_count": null,
   "metadata": {},
   "outputs": [],
   "source": [
    "name,vals = zip(*[(n,t.dropna().mean(axis=0).sort_values()) for n,t in tables.items()])\n",
    "summaryTable = pd.DataFrame(vals,index=name)"
   ]
  },
  {
   "cell_type": "code",
   "execution_count": null,
   "metadata": {},
   "outputs": [],
   "source": [
    "summaryTable.style.highlight_max(subset=[c for c in summaryTable.columns if \"Star\" not in c],axis=1)"
   ]
  },
  {
   "cell_type": "code",
   "execution_count": null,
   "metadata": {},
   "outputs": [],
   "source": [
    "table1 = summaryTable.loc(axis=0)[:,1].T.loc[[\"coral\",\"Global\", \"Group-Aware Global\", \"Cluster Global\", \"Label Shift\", \"Our Method\",\"Star\"]]\n",
    "table1.columns = table1.columns.droplevel(1)\n",
    "amazon1 = table1[\"amazon_reviews\"]\n",
    "table1 = table1.drop(\"amazon_reviews\",axis=1)"
   ]
  },
  {
   "cell_type": "code",
   "execution_count": null,
   "metadata": {},
   "outputs": [],
   "source": [
    "amazon1"
   ]
  },
  {
   "cell_type": "code",
   "execution_count": null,
   "metadata": {},
   "outputs": [],
   "source": [
    "table1"
   ]
  },
  {
   "cell_type": "code",
   "execution_count": null,
   "metadata": {},
   "outputs": [],
   "source": [
    "amazon1.to_latex(\"figures/amazon_1.latex\",\n",
    "               header=[\"Amazon\"],\n",
    "               float_format=\"%.3f\",\n",
    "               index_names=[\"CORAL\",\"Global\",\"Group-Aware Global\",\"Cluster Global\", \"Label Shift\", \"Our Method\",\"True Clustering\"],\n",
    "               caption=\"Average AUC calculated on the held-out test set for Amazon datasets in setting 1.\",\n",
    "                     label=\"tab:amazonSetting1\",)"
   ]
  },
  {
   "cell_type": "code",
   "execution_count": null,
   "metadata": {},
   "outputs": [],
   "source": [
    "table1.to_latex(\"figures/table_1.latex\",\n",
    "               header=[\"Income\",\"Employment\",\"IPR\"],\n",
    "               float_format=\"%.3f\",\n",
    "               index_names=[\"CORAL\",\"Global\",\"Group-Aware Global\",\"Cluster Global\", \"Label Shift\", \"Our Method\",\"True Clustering\"],\n",
    "               caption=\"Average AUC calculated on the held-out test set for real-world datasets in setting 1.\",\n",
    "                     label=\"tab:realSetting1\",)"
   ]
  },
  {
   "cell_type": "code",
   "execution_count": null,
   "metadata": {},
   "outputs": [],
   "source": [
    "table2 = summaryTable.loc(axis=0)[:,2].T.loc[[\"coral\",\"Global\", \"Group-Aware Global\", \"Cluster Global\", \"Label Shift\", \"Our Method\",\"Star\"]]\n",
    "table2.columns = table2.columns.droplevel(1)\n",
    "amazon2 = table2[\"amazon_reviews\"]\n",
    "table2 = table2.drop(\"amazon_reviews\",axis=1)"
   ]
  },
  {
   "cell_type": "code",
   "execution_count": null,
   "metadata": {},
   "outputs": [],
   "source": [
    "amazon2"
   ]
  },
  {
   "cell_type": "code",
   "execution_count": null,
   "metadata": {},
   "outputs": [],
   "source": [
    "table2"
   ]
  },
  {
   "cell_type": "code",
   "execution_count": null,
   "metadata": {},
   "outputs": [],
   "source": [
    "amazon2.to_latex(\"figures/amazon_2.latex\",\n",
    "               header=[\"Amazon\"],\n",
    "               float_format=\"%.3f\",\n",
    "               index_names=[\"CORAL\",\"Global\",\"Group-Aware Global\",\"Cluster Global\", \"Label Shift\", \"Our Method\",\"True Clustering\"],\n",
    "               caption=\"Average AUC calculated on the held-out test set for Amazon datasets in setting 2.\",\n",
    "                     label=\"tab:amazonSetting2\",)"
   ]
  },
  {
   "cell_type": "code",
   "execution_count": null,
   "metadata": {},
   "outputs": [],
   "source": [
    "amazonTable = pd.DataFrame({\"Setting 1\":amazon1,\n",
    "                            \"Setting 2\":amazon2})"
   ]
  },
  {
   "cell_type": "code",
   "execution_count": null,
   "metadata": {},
   "outputs": [],
   "source": [
    "amazonTable"
   ]
  },
  {
   "cell_type": "code",
   "execution_count": null,
   "metadata": {},
   "outputs": [],
   "source": [
    "amazonTable.to_latex(\"figures/amazonTable.latex\",\n",
    "               float_format=\"%.3f\",\n",
    "               index_names=[\"CORAL\",\"Global\",\"Group-Aware Global\",\"Cluster Global\", \"Label Shift\", \"Our Method\",\"True Clustering\"],\n",
    "               caption=\"Average AUC calculated on the held-out test set for Amazon datasets in settings 1 and 2.\",\n",
    "                     label=\"tab:amazon\",)"
   ]
  },
  {
   "cell_type": "code",
   "execution_count": null,
   "metadata": {},
   "outputs": [],
   "source": [
    "table2.to_latex(\"figures/table_2.latex\",\n",
    "               header=[\"Income\",\"Employment\",\"IPR\"],\n",
    "               float_format=\"%.3f\",\n",
    "               index_names=[\"CORAL\",\"Global\",\"Group-Aware Global\",\"Cluster Global\", \"Label Shift\", \"Our Method\",\"True Clustering\"],\n",
    "               caption=\"Average AUC calculated on the held-out test set for real-world datasets in setting 2.\",\n",
    "                     label=\"tab:realSetting2\",)"
   ]
  },
  {
   "cell_type": "code",
   "execution_count": null,
   "metadata": {},
   "outputs": [],
   "source": [
    "name,vals = zip(*[(n,t.dropna().mean(axis=0).sort_values()) for n,t in synth_tables.items()])\n",
    "synth_summaryTable = pd.DataFrame(vals,index=name)"
   ]
  },
  {
   "cell_type": "code",
   "execution_count": null,
   "metadata": {},
   "outputs": [],
   "source": [
    "synth_summaryTable.style.highlight_max(subset=[c for c in synth_summaryTable.columns if \"Star\" not in c],axis=1)"
   ]
  },
  {
   "cell_type": "code",
   "execution_count": null,
   "metadata": {},
   "outputs": [],
   "source": [
    "import matplotlib.pyplot as plt\n",
    "plt.rcParams.update({'font.size': 34})\n",
    "def plotRelPerf(tbl,savepath=None,ax=None,ticks=True,axLBL=True,title=None,\n",
    "               cols=lambda tbl:tbl.columns,\n",
    "               ticklabels = None,\n",
    "               rel_to=\"Global\",\n",
    "                ytick_locs=np.arange(-20,25,5)):\n",
    "    g = tbl[rel_to]\n",
    "    cols = cols(tbl)\n",
    "    rel = tbl.loc[:,cols].apply(lambda col: (col-g)/g) * 100\n",
    "    if ax is None:\n",
    "        ax = plt.subplot()\n",
    "    ax.boxplot(rel)\n",
    "    ax.violinplot(rel)\n",
    "    if ticks:\n",
    "        if ticklabels is None:\n",
    "            ticklabels = cols\n",
    "        labels = ax.set_xticks(np.arange(1,len(ticklabels)+1),\n",
    "                        ticklabels,\n",
    "                        rotation=45,ha=\"right\")\n",
    "    else:\n",
    "        ax.tick_params(axis='x',          # changes apply to the x-axis\n",
    "                           which='both',      # both major and minor ticks are affected\n",
    "                           bottom=False,      # ticks along the bottom edge are off\n",
    "                           top=False,         # ticks along the top edge are off\n",
    "                           labelbottom=False) # labels along the bottom edge are off\n",
    "    if axLBL:\n",
    "        ax.set_ylabel(\"Relative AUC (%)\")\n",
    "        ax.set_yticks(ytick_locs,\n",
    "                 [str(i) for i in ytick_locs])\n",
    "    if title is not None:\n",
    "        ax.set_title(title)\n",
    "    if savepath is not None:\n",
    "        plt.savefig(savepath,format=\"pdf\")\n",
    "    return ax"
   ]
  },
  {
   "cell_type": "code",
   "execution_count": null,
   "metadata": {},
   "outputs": [],
   "source": [
    "synthDFig2,synthDax2 = plt.subplots(4,4,figsize=(24,24),sharey=True,)\n",
    "for i,d in enumerate([1,4,16,64]):\n",
    "    for j,k in enumerate([1,2,4,8]):\n",
    "        plotRelPerf(synth_tables[(2,d,k)].dropna(),\n",
    "                    ax=synthDax2[i,j],\n",
    "                   ticks=i==3,\n",
    "                   axLBL=j==0,\n",
    "                   title=f\"d={d} K={k}\",\n",
    "                   cols=lambda tbl:[\"coral\",\"Group-Aware Global\",\n",
    "                                    \"Cluster Global\",\n",
    "                                    \"Label Shift\",\"Our Method\",\"Star\"],\n",
    "                   ticklabels=[\"CORAL\",\"Group-Aware Global\",\n",
    "                                    \"Cluster Global\",\n",
    "                                    \"Label Shift\",\"Our Method\",\"True Clustering\"],\n",
    "                   rel_to=\"Global\",ytick_locs=np.arange(-20,30,10))\n",
    "synthDFig2.subplots_adjust(hspace = .15,wspace=.05)"
   ]
  },
  {
   "cell_type": "code",
   "execution_count": null,
   "metadata": {},
   "outputs": [],
   "source": [
    "synthDFig2.savefig(\"figures/synthetic_breakdown.pdf\",format=\"pdf\", bbox_inches='tight')"
   ]
  },
  {
   "cell_type": "code",
   "execution_count": null,
   "metadata": {},
   "outputs": [],
   "source": [
    "synthfig,synthax= plt.subplots(1,2,figsize=(12,6),sharey=True)\n",
    "\n",
    "synth1 = plotRelPerf(synth_summaryTable.loc[1],ax=synthax[0],\n",
    "                     cols=lambda tbl:[\"coral\",\"Group-Aware Global\",\n",
    "                                      \"Cluster Global\",\n",
    "                                      \"Label Shift\",\"Our Method\"],\n",
    "                     ytick_locs=np.arange(-20,30,10),\n",
    "                    ticklabels=[\"CORAL\",\"Group-Aware Global\",\n",
    "                                    \"Cluster Global\",\n",
    "                                    \"Label Shift\",\"Our Method\"],)\n",
    "\n",
    "synth2 = plotRelPerf(synth_summaryTable.loc[2],ax=synthax[1],axLBL=False,\n",
    "                    cols=lambda tbl:[\"coral\",\"Group-Aware Global\",\n",
    "                                      \"Cluster Global\",\n",
    "                                      \"Label Shift\",\"Our Method\"],\n",
    "                    ticklabels=[\"CORAL\",\"Group-Aware Global\",\n",
    "                                    \"Cluster Global\",\n",
    "                                    \"Label Shift\",\"Our Method\"],)"
   ]
  },
  {
   "cell_type": "code",
   "execution_count": null,
   "metadata": {},
   "outputs": [],
   "source": [
    "synthfig.savefig(\"figures/synthetic.pdf\",format=\"pdf\",bbox_inches='tight')"
   ]
  },
  {
   "cell_type": "code",
   "execution_count": null,
   "metadata": {},
   "outputs": [],
   "source": []
  }
 ],
 "metadata": {
  "language_info": {
   "name": "python",
   "pygments_lexer": "ipython3"
  }
 },
 "nbformat": 4,
 "nbformat_minor": 2
}
