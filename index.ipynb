{
 "cells": [
  {
   "cell_type": "code",
   "execution_count": 2,
   "metadata": {},
   "outputs": [],
   "source": [
    "#hide\n",
    "from LeveragingStructure.core import *"
   ]
  },
  {
   "cell_type": "code",
   "execution_count": 3,
   "metadata": {},
   "outputs": [],
   "source": [
    "import warnings\n",
    "warnings.filterwarnings('ignore')"
   ]
  },
  {
   "cell_type": "markdown",
   "metadata": {},
   "source": [
    "# Leveraging Structure for Improved Classification of Grouped Data\n"
   ]
  },
  {
   "cell_type": "markdown",
   "metadata": {},
   "source": [
    "## Create environment and Install Dependencies"
   ]
  },
  {
   "cell_type": "markdown",
   "metadata": {},
   "source": [
    "`conda create --name structure python=3.9`"
   ]
  },
  {
   "cell_type": "markdown",
   "metadata": {},
   "source": [
    "`conda activate structure`"
   ]
  },
  {
   "cell_type": "markdown",
   "metadata": {},
   "source": [
    "`python -m pip install -r requirements.txt`"
   ]
  },
  {
   "cell_type": "markdown",
   "metadata": {},
   "source": [
    "# Running Experiment on Synthetic Data"
   ]
  },
  {
   "cell_type": "markdown",
   "metadata": {},
   "source": [
    "## Create Synthetic Dataset"
   ]
  },
  {
   "cell_type": "code",
   "execution_count": null,
   "metadata": {},
   "outputs": [],
   "source": [
    "from LeveragingStructure.data.leveragingStructure import SyntheticSetting2"
   ]
  },
  {
   "cell_type": "code",
   "execution_count": null,
   "metadata": {},
   "outputs": [],
   "source": [
    "import numpy as np"
   ]
  },
  {
   "cell_type": "code",
   "execution_count": null,
   "metadata": {},
   "outputs": [],
   "source": [
    "dataset = SyntheticSetting2.from_criteria(n_targets=10,n_clusters=2,dim=2,aucRange=[.75,.95],\n",
    "                                          irreducibility_range=[.01,.9],\n",
    "                                         num_points_labeled_partition=lambda: np.round(np.random.normal(1000,100)),\n",
    "                                         num_points_unlabeled_partition=lambda: np.round(np.random.normal(10000,1000)),\n",
    "                                         timeoutMins=2,nTimeouts=3)"
   ]
  },
  {
   "cell_type": "markdown",
   "metadata": {},
   "source": [
    "### Visualize (Synthetic Dataset Only)"
   ]
  },
  {
   "cell_type": "code",
   "execution_count": null,
   "metadata": {},
   "outputs": [],
   "source": [
    "dataset.NMix.plotCIEllipse()"
   ]
  },
  {
   "cell_type": "markdown",
   "metadata": {},
   "source": [
    "## Split Labeled and Unlabeled Sets"
   ]
  },
  {
   "cell_type": "code",
   "execution_count": null,
   "metadata": {},
   "outputs": [],
   "source": [
    "from sklearn.model_selection import GroupShuffleSplit"
   ]
  },
  {
   "cell_type": "markdown",
   "metadata": {},
   "source": [
    "### Split Labeled Train and Validation Sets"
   ]
  },
  {
   "cell_type": "code",
   "execution_count": null,
   "metadata": {},
   "outputs": [],
   "source": [
    "XLabeled,yLabeled,instanceNumLabeled,bagLabeled = map(np.concatenate, list(zip(*[s[:]+(s.instanceNum,\n",
    "                                                                                       np.ones(len(s),\n",
    "                                                                                               dtype=int)*sNum) \\\n",
    "                                                                                 for (sNum,s) in enumerate(dataset.labeledSamples)])))\n",
    "gss = GroupShuffleSplit(n_splits=1)\n",
    "\n",
    "labeledTrainIndices,labeledValIndices = next(iter(gss.split(XLabeled,yLabeled,instanceNumLabeled)))\n",
    "\n",
    "XLabeledTrain = XLabeled[labeledTrainIndices]\n",
    "XLabeledVal = XLabeled[labeledValIndices]\n",
    "yLabeledTrain = yLabeled[labeledTrainIndices]\n",
    "yLabeledVal = yLabeled[labeledValIndices]\n",
    "instanceNumLabeledTrain = instanceNumLabeled[labeledTrainIndices]\n",
    "instanceNumLabeledVal = instanceNumLabeled[labeledValIndices]\n",
    "bagLabeledTrain = bagLabeled[labeledTrainIndices]\n",
    "bagLabeledVal = bagLabeled[labeledValIndices]"
   ]
  },
  {
   "cell_type": "markdown",
   "metadata": {},
   "source": [
    "### Split Unlabeled Train and Test Sets"
   ]
  },
  {
   "cell_type": "code",
   "execution_count": null,
   "metadata": {},
   "outputs": [],
   "source": [
    "XUnlabeled,yUnlabeled,instanceNumUnlabeled = list(zip(*[s[:]+(s.instanceNum,) for s in dataset.unlabeledSamples]))\n",
    "\n",
    "bagUnlabeled = [np.ones(len(y),dtype=int)*bagNum for bagNum,y in enumerate(yUnlabeled)]\n",
    "\n",
    "XUnlabeled,yUnlabeled,bagUnlabeled,instanceNumUnlabeled = map(np.concatenate, [XUnlabeled,yUnlabeled,bagUnlabeled,instanceNumUnlabeled])\n",
    "\n",
    "unlabeledTrainIndices,unlabeledTestIndices = next(iter(GroupShuffleSplit(n_splits=1).split(XUnlabeled,\n",
    "                                                                                           yUnlabeled,\n",
    "                                                                                           instanceNumUnlabeled)))\n",
    "\n",
    "XUnlabeledTrain,yUnlabeledTrain = XUnlabeled[unlabeledTrainIndices],yUnlabeled[unlabeledTrainIndices]\n",
    "bagUnlabeledTrain = bagUnlabeled[unlabeledTrainIndices]\n",
    "instanceNumUnlabeledTrain = instanceNumUnlabeled[unlabeledTrainIndices]\n",
    "\n",
    "XUnlabeledTest,yUnlabeledTest = XUnlabeled[unlabeledTestIndices],yUnlabeled[unlabeledTestIndices]\n",
    "bagUnlabeledTest = bagUnlabeled[unlabeledTestIndices]\n",
    "instanceNumUnlabeledTest = instanceNumUnlabeled[unlabeledTestIndices]"
   ]
  },
  {
   "cell_type": "markdown",
   "metadata": {},
   "source": [
    "## Run Method on Synthetic Data"
   ]
  },
  {
   "cell_type": "code",
   "execution_count": null,
   "metadata": {},
   "outputs": [],
   "source": [
    "import os\n",
    "if not os.path.isdir(\"experiments\"):\n",
    "    os.mkdir(\"experiments\")"
   ]
  },
  {
   "cell_type": "code",
   "execution_count": null,
   "metadata": {},
   "outputs": [],
   "source": [
    "from LeveragingStructure.experiment_utils import Method,GroupAwareGlobal,FrustratinglyEasyDomainAdaptation"
   ]
  },
  {
   "cell_type": "code",
   "execution_count": null,
   "metadata": {},
   "outputs": [],
   "source": [
    "if not os.path.isdir(\"experiments/synthetic_experiment\"):\n",
    "    os.mkdir(\"experiments/synthetic_experiment\")"
   ]
  },
  {
   "cell_type": "code",
   "execution_count": null,
   "metadata": {},
   "outputs": [],
   "source": [
    "method = Method(\"experiments/synthetic_experiment/ourMethod\")"
   ]
  },
  {
   "cell_type": "code",
   "execution_count": null,
   "metadata": {},
   "outputs": [],
   "source": [
    "method.fit(XLabeledTrain,yLabeledTrain,XLabeledVal,yLabeledVal,XUnlabeledTrain,bagUnlabeledTrain,\n",
    "           cluster_range=np.arange(1,4))"
   ]
  },
  {
   "cell_type": "code",
   "execution_count": null,
   "metadata": {},
   "outputs": [],
   "source": [
    "mm1 = Method(\"experiments/synthetic_experiment/singleClusterAblation\")"
   ]
  },
  {
   "cell_type": "code",
   "execution_count": null,
   "metadata": {},
   "outputs": [],
   "source": [
    "mm1.fit(XLabeledTrain,yLabeledTrain,XLabeledVal,yLabeledVal,XUnlabeledTrain,bagUnlabeledTrain,\n",
    "       cluster_range=[1])"
   ]
  },
  {
   "cell_type": "code",
   "execution_count": null,
   "metadata": {},
   "outputs": [],
   "source": [
    "ag = GroupAwareGlobal(savepath=\"experiments/synthetic_experiment/groupAwareGlobal\")"
   ]
  },
  {
   "cell_type": "code",
   "execution_count": null,
   "metadata": {},
   "outputs": [],
   "source": [
    "ag.fit(XLabeledTrain,yLabeledTrain,bagLabeledTrain,\n",
    "       XLabeledVal,yLabeledVal,bagLabeledVal,\n",
    "       XUnlabeledTrain,bagUnlabeledTrain,\n",
    "           cluster_range=np.arange(1,4))"
   ]
  },
  {
   "cell_type": "code",
   "execution_count": null,
   "metadata": {},
   "outputs": [],
   "source": [
    "fe = FrustratinglyEasyDomainAdaptation(savepath=\"experiments/synthetic_experiment/frustratinglyEasy\")"
   ]
  },
  {
   "cell_type": "code",
   "execution_count": null,
   "metadata": {},
   "outputs": [],
   "source": [
    "fe.fit(XLabeledTrain,yLabeledTrain,XLabeledVal,yLabeledVal,XUnlabeledTrain,bagUnlabeledTrain,)"
   ]
  },
  {
   "cell_type": "markdown",
   "metadata": {},
   "source": [
    "## Evaluate Performances on Synthetic Data"
   ]
  },
  {
   "cell_type": "code",
   "execution_count": null,
   "metadata": {},
   "outputs": [],
   "source": [
    "from sklearn.metrics import roc_auc_score"
   ]
  },
  {
   "cell_type": "markdown",
   "metadata": {},
   "source": [
    "### Our Method"
   ]
  },
  {
   "cell_type": "code",
   "execution_count": null,
   "metadata": {},
   "outputs": [],
   "source": [
    "roc_auc_score(yUnlabeledTest,method.predict(XUnlabeledTest,bagUnlabeledTest))"
   ]
  },
  {
   "cell_type": "markdown",
   "metadata": {},
   "source": [
    "### Cluster Global"
   ]
  },
  {
   "cell_type": "code",
   "execution_count": null,
   "metadata": {},
   "outputs": [],
   "source": [
    "roc_auc_score(yUnlabeledTest,method.predict(XUnlabeledTest,bagUnlabeledTest,clusterGlobal=True))"
   ]
  },
  {
   "cell_type": "markdown",
   "metadata": {},
   "source": [
    "### Label Shift"
   ]
  },
  {
   "cell_type": "code",
   "execution_count": null,
   "metadata": {},
   "outputs": [],
   "source": [
    "roc_auc_score(yUnlabeledTest,mm1.predict(XUnlabeledTest,bagUnlabeledTest))"
   ]
  },
  {
   "cell_type": "markdown",
   "metadata": {},
   "source": [
    "### Global"
   ]
  },
  {
   "cell_type": "code",
   "execution_count": null,
   "metadata": {},
   "outputs": [],
   "source": [
    "roc_auc_score(yUnlabeledTest,mm1.predict(XUnlabeledTest,bagUnlabeledTest,clusterGlobal=True))"
   ]
  },
  {
   "cell_type": "markdown",
   "metadata": {},
   "source": [
    "### Group Aware Global"
   ]
  },
  {
   "cell_type": "code",
   "execution_count": null,
   "metadata": {},
   "outputs": [],
   "source": [
    "roc_auc_score(yUnlabeledTest,ag.predict(XUnlabeledTest,bagUnlabeledTest))"
   ]
  },
  {
   "cell_type": "markdown",
   "metadata": {},
   "source": [
    "### Frustratingly Easy Domain Adaptation"
   ]
  },
  {
   "cell_type": "code",
   "execution_count": null,
   "metadata": {},
   "outputs": [],
   "source": [
    "roc_auc_score(yUnlabeledTest,fe.predict(XUnlabeledTest,bagUnlabeledTest))"
   ]
  },
  {
   "cell_type": "markdown",
   "metadata": {},
   "source": [
    "# Experiment on Real Data"
   ]
  },
  {
   "cell_type": "code",
   "execution_count": null,
   "metadata": {},
   "outputs": [],
   "source": [
    "from LeveragingStructure.data.leveragingStructure import ACSLoaderSetting2, HuggingfaceDatasetSetting2"
   ]
  },
  {
   "cell_type": "code",
   "execution_count": null,
   "metadata": {},
   "outputs": [],
   "source": [
    "baseDSKwargs= dict(resampleGroupID=False,\n",
    "                allowDuplicates=False,\n",
    "                labelProportion=.5,\n",
    "                minsize=500,\n",
    "                cluster_range=np.arange(1,8),\n",
    "                bagLabeledSampleDistribution=lambda bag_size: bag_size,\n",
    "                bagUnlabeledSampleDistribution=lambda bag_size: bag_size,\n",
    "                minibatchKMeans=True,\n",
    "                reassignment_ratio=.001,\n",
    "                batch_size=2^13,\n",
    "                verbose=True,\n",
    "                tol=.01)\n",
    "dataset2 = HuggingfaceDatasetSetting2(**baseDSKwargs)"
   ]
  },
  {
   "cell_type": "code",
   "execution_count": null,
   "metadata": {},
   "outputs": [],
   "source": [
    "XLabeled,yLabeled,instanceNumLabeled,bagLabeled = map(np.concatenate, list(zip(*[s[:]+(s.instanceNum,\n",
    "                                                                                       np.ones(len(s),\n",
    "                                                                                               dtype=int)*sNum) \\\n",
    "                                                                                 for (sNum,s) in enumerate(dataset2.labeledSamples)])))\n",
    "gss = GroupShuffleSplit(n_splits=1)\n",
    "\n",
    "labeledTrainIndices,labeledValIndices = next(iter(gss.split(XLabeled,yLabeled,instanceNumLabeled)))\n",
    "\n",
    "XLabeledTrain = XLabeled[labeledTrainIndices]\n",
    "XLabeledVal = XLabeled[labeledValIndices]\n",
    "yLabeledTrain = yLabeled[labeledTrainIndices]\n",
    "yLabeledVal = yLabeled[labeledValIndices]\n",
    "instanceNumLabeledTrain = instanceNumLabeled[labeledTrainIndices]\n",
    "instanceNumLabeledVal = instanceNumLabeled[labeledValIndices]\n",
    "bagLabeledTrain = bagLabeled[labeledTrainIndices]\n",
    "bagLabeledVal = bagLabeled[labeledValIndices]"
   ]
  },
  {
   "cell_type": "code",
   "execution_count": null,
   "metadata": {},
   "outputs": [],
   "source": [
    "XUnlabeled,yUnlabeled,instanceNumUnlabeled = list(zip(*[s[:]+(s.instanceNum,) for s in dataset2.unlabeledSamples]))\n",
    "\n",
    "bagUnlabeled = [np.ones(len(y),dtype=int)*bagNum for bagNum,y in enumerate(yUnlabeled)]\n",
    "\n",
    "XUnlabeled,yUnlabeled,bagUnlabeled,instanceNumUnlabeled = map(np.concatenate, [XUnlabeled,yUnlabeled,bagUnlabeled,instanceNumUnlabeled])\n",
    "\n",
    "unlabeledTrainIndices,unlabeledTestIndices = next(iter(GroupShuffleSplit(n_splits=1).split(XUnlabeled,\n",
    "                                                                                           yUnlabeled,\n",
    "                                                                                           instanceNumUnlabeled)))\n",
    "\n",
    "XUnlabeledTrain,yUnlabeledTrain = XUnlabeled[unlabeledTrainIndices],yUnlabeled[unlabeledTrainIndices]\n",
    "bagUnlabeledTrain = bagUnlabeled[unlabeledTrainIndices]\n",
    "instanceNumUnlabeledTrain = instanceNumUnlabeled[unlabeledTrainIndices]\n",
    "\n",
    "XUnlabeledTest,yUnlabeledTest = XUnlabeled[unlabeledTestIndices],yUnlabeled[unlabeledTestIndices]\n",
    "bagUnlabeledTest = bagUnlabeled[unlabeledTestIndices]\n",
    "instanceNumUnlabeledTest = instanceNumUnlabeled[unlabeledTestIndices]"
   ]
  },
  {
   "cell_type": "code",
   "execution_count": null,
   "metadata": {},
   "outputs": [],
   "source": [
    "import os\n",
    "if not os.path.isdir(\"experiments/amazon_review_all_experiment\"):\n",
    "    os.mkdir(\"experiments/amazon_review_all_experiment\")"
   ]
  },
  {
   "cell_type": "code",
   "execution_count": null,
   "metadata": {},
   "outputs": [],
   "source": [
    "method = Method(\"experiments/amazon_review_all_experiment/ourMethod\")"
   ]
  },
  {
   "cell_type": "code",
   "execution_count": null,
   "metadata": {},
   "outputs": [],
   "source": [
    "method.fit(XLabeledTrain,yLabeledTrain,XLabeledVal,yLabeledVal,XUnlabeledTrain,bagUnlabeledTrain,\n",
    "           cluster_range=np.arange(1,8))"
   ]
  },
  {
   "cell_type": "code",
   "execution_count": null,
   "metadata": {},
   "outputs": [],
   "source": [
    "mm1 = Method(\"experiments/amazon_review_all_experiment/singleClusterAblation\")"
   ]
  },
  {
   "cell_type": "code",
   "execution_count": null,
   "metadata": {},
   "outputs": [],
   "source": [
    "mm1.fit(XLabeledTrain,yLabeledTrain,XLabeledVal,yLabeledVal,XUnlabeledTrain,bagUnlabeledTrain,\n",
    "       cluster_range=[1])"
   ]
  },
  {
   "cell_type": "code",
   "execution_count": null,
   "metadata": {},
   "outputs": [],
   "source": [
    "ag = GroupAwareGlobal(savepath=\"experiments/amazon_review_all_experiment/groupAwareGlobal\")"
   ]
  },
  {
   "cell_type": "code",
   "execution_count": null,
   "metadata": {},
   "outputs": [],
   "source": [
    "ag.fit(XLabeledTrain,yLabeledTrain,bagLabeledTrain,\n",
    "       XLabeledVal,yLabeledVal,bagLabeledVal,\n",
    "       XUnlabeledTrain,bagUnlabeledTrain,\n",
    "           cluster_range=np.arange(1,4))"
   ]
  },
  {
   "cell_type": "code",
   "execution_count": null,
   "metadata": {},
   "outputs": [],
   "source": [
    "fe = FrustratinglyEasyDomainAdaptation(savepath=\"experiments/amazon_review_all_experiment/frustratinglyEasy\")"
   ]
  },
  {
   "cell_type": "code",
   "execution_count": null,
   "metadata": {},
   "outputs": [],
   "source": [
    "fe.fit(XLabeledTrain,yLabeledTrain,XLabeledVal,yLabeledVal,XUnlabeledTrain,bagUnlabeledTrain,)"
   ]
  },
  {
   "cell_type": "markdown",
   "metadata": {},
   "source": [
    "### Performance on Amazon Reviews"
   ]
  },
  {
   "cell_type": "code",
   "execution_count": 4,
   "metadata": {},
   "outputs": [],
   "source": [
    "from sklearn.metrics import roc_auc_score"
   ]
  },
  {
   "cell_type": "markdown",
   "metadata": {},
   "source": [
    "### Our Method"
   ]
  },
  {
   "cell_type": "code",
   "execution_count": null,
   "metadata": {},
   "outputs": [],
   "source": [
    "roc_auc_score(yUnlabeledTest,method.predict(XUnlabeledTest,bagUnlabeledTest))"
   ]
  },
  {
   "cell_type": "markdown",
   "metadata": {},
   "source": [
    "### Cluster Global"
   ]
  },
  {
   "cell_type": "code",
   "execution_count": null,
   "metadata": {},
   "outputs": [],
   "source": [
    "roc_auc_score(yUnlabeledTest,method.predict(XUnlabeledTest,bagUnlabeledTest,clusterGlobal=True))"
   ]
  },
  {
   "cell_type": "markdown",
   "metadata": {},
   "source": [
    "### Label Shift"
   ]
  },
  {
   "cell_type": "code",
   "execution_count": null,
   "metadata": {},
   "outputs": [],
   "source": [
    "roc_auc_score(yUnlabeledTest,mm1.predict(XUnlabeledTest,bagUnlabeledTest))"
   ]
  },
  {
   "cell_type": "markdown",
   "metadata": {},
   "source": [
    "### Global"
   ]
  },
  {
   "cell_type": "code",
   "execution_count": null,
   "metadata": {},
   "outputs": [],
   "source": [
    "roc_auc_score(yUnlabeledTest,mm1.predict(XUnlabeledTest,bagUnlabeledTest,clusterGlobal=True))"
   ]
  },
  {
   "cell_type": "markdown",
   "metadata": {},
   "source": [
    "### Group Aware Global"
   ]
  },
  {
   "cell_type": "code",
   "execution_count": null,
   "metadata": {},
   "outputs": [],
   "source": [
    "roc_auc_score(yUnlabeledTest,ag.predict(XUnlabeledTest,bagUnlabeledTest))"
   ]
  },
  {
   "cell_type": "markdown",
   "metadata": {},
   "source": [
    "### Frustratingly Easy Domain Adaptation"
   ]
  },
  {
   "cell_type": "code",
   "execution_count": null,
   "metadata": {},
   "outputs": [],
   "source": [
    "roc_auc_score(yUnlabeledTest,fe.predict(XUnlabeledTest,bagUnlabeledTest))"
   ]
  },
  {
   "cell_type": "markdown",
   "metadata": {},
   "source": [
    "# Full Results"
   ]
  },
  {
   "cell_type": "code",
   "execution_count": 1,
   "metadata": {},
   "outputs": [
    {
     "name": "stderr",
     "output_type": "stream",
     "text": [
      "2022-10-25 05:41:25.632289: I tensorflow/core/platform/cpu_feature_guard.cc:193] This TensorFlow binary is optimized with oneAPI Deep Neural Network Library (oneDNN) to use the following CPU instructions in performance-critical operations:  AVX2 FMA\n",
      "To enable them in other operations, rebuild TensorFlow with the appropriate compiler flags.\n",
      "2022-10-25 05:41:25.855189: W tensorflow/stream_executor/platform/default/dso_loader.cc:64] Could not load dynamic library 'libcudart.so.11.0'; dlerror: libcudart.so.11.0: cannot open shared object file: No such file or directory; LD_LIBRARY_PATH: /home/ood.discovery.neu.edu/software/anaconda3/2019.10/lib:/shared/centos7/openblas/0.3.6/lib\n",
      "2022-10-25 05:41:25.855293: I tensorflow/stream_executor/cuda/cudart_stub.cc:29] Ignore above cudart dlerror if you do not have a GPU set up on your machine.\n",
      "2022-10-25 05:41:25.902004: E tensorflow/stream_executor/cuda/cuda_blas.cc:2981] Unable to register cuBLAS factory: Attempting to register factory for plugin cuBLAS when one has already been registered\n",
      "2022-10-25 05:41:28.153035: W tensorflow/stream_executor/platform/default/dso_loader.cc:64] Could not load dynamic library 'libnvinfer.so.7'; dlerror: libnvinfer.so.7: cannot open shared object file: No such file or directory; LD_LIBRARY_PATH: /home/ood.discovery.neu.edu/software/anaconda3/2019.10/lib:/shared/centos7/openblas/0.3.6/lib\n",
      "2022-10-25 05:41:28.153997: W tensorflow/stream_executor/platform/default/dso_loader.cc:64] Could not load dynamic library 'libnvinfer_plugin.so.7'; dlerror: libnvinfer_plugin.so.7: cannot open shared object file: No such file or directory; LD_LIBRARY_PATH: /home/ood.discovery.neu.edu/software/anaconda3/2019.10/lib:/shared/centos7/openblas/0.3.6/lib\n",
      "2022-10-25 05:41:28.154019: W tensorflow/compiler/tf2tensorrt/utils/py_utils.cc:38] TF-TRT Warning: Cannot dlopen some TensorRT libraries. If you would like to use Nvidia GPU with TensorRT, please make sure the missing libraries mentioned above are installed properly.\n"
     ]
    }
   ],
   "source": [
    "from LeveragingStructure.experiment_utils import *"
   ]
  },
  {
   "cell_type": "code",
   "execution_count": 2,
   "metadata": {},
   "outputs": [],
   "source": [
    "def getResults(pth):\n",
    "    y = np.load(os.path.join(pth,\"yUnlabeledTest.npy\"))\n",
    "    ourPreds = np.load(os.path.join(pth,\"mm\",\"preds.npy\"))\n",
    "    clusterGlobalPreds = np.load(os.path.join(pth,\"mm\",\"clusterGlobalPreds.npy\"))\n",
    "    labelShiftPreds = np.load(os.path.join(pth,\"mm2\",\"Preds.npy\"))\n",
    "    globalPreds = np.load(os.path.join(pth,\"mm2\",\"clusterGlobalPreds.npy\"))\n",
    "    groupAwareGlobalPreds = np.load(os.path.join(pth,\"ag\",\"preds.npy\"))\n",
    "    fe = np.load(os.path.join(pth,\"fe\",\"preds.npy\"))\n",
    "    star = np.load(os.path.join(pth,\"mmStar\",\"preds.npy\"))\n",
    "    return dict(y=y,ourPreds=ourPreds,clusterGlobalPreds=clusterGlobalPreds,\n",
    "                labelShiftPreds=labelShiftPreds, globalPreds=globalPreds,\n",
    "                groupAwareGlobalPreds=groupAwareGlobalPreds,star=star,fe=fe)"
   ]
  },
  {
   "cell_type": "code",
   "execution_count": 3,
   "metadata": {},
   "outputs": [],
   "source": [
    "import os\n",
    "import numpy as np"
   ]
  },
  {
   "cell_type": "code",
   "execution_count": 11,
   "metadata": {
    "scrolled": true
   },
   "outputs": [
    {
     "name": "stdout",
     "output_type": "stream",
     "text": [
      "failed to load amazon_reviews_pca - 0\n",
      "failed to load amazon_reviews_pca - 1\n",
      "failed to load amazon_reviews_pca - 2\n",
      "failed to load amazon_reviews_pca - 3\n",
      "failed to load amazon_reviews_pca - 4\n",
      "failed to load amazon_reviews_pca - 5\n",
      "failed to load amazon_reviews_pca - 6\n",
      "failed to load income_poverty_ratio - 7\n",
      "failed to load amazon_reviews_pca - 7\n",
      "failed to load amazon_reviews_pca - 8\n",
      "failed to load amazon_reviews_pca - 9\n",
      "failed to load employment - 10\n",
      "failed to load amazon_reviews_pca - 10\n",
      "failed to load amazon_reviews_pca - 11\n",
      "failed to load amazon_reviews_pca - 12\n",
      "failed to load amazon_reviews_pca - 13\n",
      "failed to load amazon_reviews_pca - 14\n",
      "failed to load amazon_reviews_pca - 15\n",
      "failed to load amazon_reviews_pca - 16\n",
      "failed to load amazon_reviews_pca - 17\n",
      "failed to load amazon_reviews_pca - 18\n",
      "failed to load amazon_reviews_pca - 19\n",
      "failed to load amazon_reviews_pca - 20\n",
      "failed to load employment - 21\n",
      "failed to load amazon_reviews_pca - 21\n",
      "failed to load employment - 22\n",
      "failed to load amazon_reviews_pca - 22\n",
      "failed to load amazon_reviews_pca - 23\n",
      "failed to load amazon_reviews_pca - 24\n",
      "failed to load amazon_reviews_pca - 25\n"
     ]
    }
   ],
   "source": [
    "results = {\"income\": [],\n",
    "           \"employment\": [],\n",
    "           \"income_poverty_ratio\": [],\n",
    "           \"amazon_reviews_pca\": []}\n",
    "for i in range(26):\n",
    "    for k in results.keys():\n",
    "        try:\n",
    "            ri = getResults(f\"/scratch/zeiberg.d/leveragingStructureResponseExperiments/experiments/{k}_setting_2_{i}/\")\n",
    "        except FileNotFoundError:\n",
    "            print(f\"failed to load {k} - {i}\")\n",
    "            continue\n",
    "        results[k].append(ri)"
   ]
  },
  {
   "cell_type": "code",
   "execution_count": 12,
   "metadata": {},
   "outputs": [],
   "source": [
    "import pandas as pd"
   ]
  },
  {
   "cell_type": "code",
   "execution_count": 13,
   "metadata": {},
   "outputs": [],
   "source": [
    "from sklearn.metrics import roc_auc_score"
   ]
  },
  {
   "cell_type": "code",
   "execution_count": 14,
   "metadata": {},
   "outputs": [],
   "source": [
    "def formatResults(r):\n",
    "    aucs = {}\n",
    "    for k,v in r.items():\n",
    "        if k != \"y\":\n",
    "            auc = roc_auc_score(r[\"y\"],v)\n",
    "            aucs[k] = auc\n",
    "    return aucs"
   ]
  },
  {
   "cell_type": "markdown",
   "metadata": {},
   "source": [
    "### Income"
   ]
  },
  {
   "cell_type": "code",
   "execution_count": 16,
   "metadata": {},
   "outputs": [],
   "source": [
    "incomedf = pd.DataFrame.from_records([pd.Series(formatResults(ri)) for ri in results[\"income\"]])"
   ]
  },
  {
   "cell_type": "code",
   "execution_count": 21,
   "metadata": {},
   "outputs": [
    {
     "data": {
      "text/html": [
       "<div>\n",
       "<style scoped>\n",
       "    .dataframe tbody tr th:only-of-type {\n",
       "        vertical-align: middle;\n",
       "    }\n",
       "\n",
       "    .dataframe tbody tr th {\n",
       "        vertical-align: top;\n",
       "    }\n",
       "\n",
       "    .dataframe thead th {\n",
       "        text-align: right;\n",
       "    }\n",
       "</style>\n",
       "<table border=\"1\" class=\"dataframe\">\n",
       "  <thead>\n",
       "    <tr style=\"text-align: right;\">\n",
       "      <th></th>\n",
       "      <th>ourPreds</th>\n",
       "      <th>clusterGlobalPreds</th>\n",
       "      <th>labelShiftPreds</th>\n",
       "      <th>globalPreds</th>\n",
       "      <th>groupAwareGlobalPreds</th>\n",
       "      <th>star</th>\n",
       "      <th>fe</th>\n",
       "    </tr>\n",
       "  </thead>\n",
       "  <tbody>\n",
       "    <tr>\n",
       "      <th>0</th>\n",
       "      <td>0.835291</td>\n",
       "      <td>0.836911</td>\n",
       "      <td>0.834190</td>\n",
       "      <td>0.835589</td>\n",
       "      <td>0.819671</td>\n",
       "      <td>0.886011</td>\n",
       "      <td>0.823223</td>\n",
       "    </tr>\n",
       "    <tr>\n",
       "      <th>1</th>\n",
       "      <td>0.874630</td>\n",
       "      <td>0.854199</td>\n",
       "      <td>0.857362</td>\n",
       "      <td>0.851520</td>\n",
       "      <td>0.839524</td>\n",
       "      <td>0.882500</td>\n",
       "      <td>0.837787</td>\n",
       "    </tr>\n",
       "    <tr>\n",
       "      <th>2</th>\n",
       "      <td>0.880579</td>\n",
       "      <td>0.867955</td>\n",
       "      <td>0.877876</td>\n",
       "      <td>0.865592</td>\n",
       "      <td>0.850140</td>\n",
       "      <td>0.891639</td>\n",
       "      <td>0.852192</td>\n",
       "    </tr>\n",
       "    <tr>\n",
       "      <th>3</th>\n",
       "      <td>0.913335</td>\n",
       "      <td>0.875025</td>\n",
       "      <td>0.890190</td>\n",
       "      <td>0.872177</td>\n",
       "      <td>0.865679</td>\n",
       "      <td>0.919267</td>\n",
       "      <td>0.865157</td>\n",
       "    </tr>\n",
       "    <tr>\n",
       "      <th>4</th>\n",
       "      <td>0.909269</td>\n",
       "      <td>0.874964</td>\n",
       "      <td>0.904797</td>\n",
       "      <td>0.873737</td>\n",
       "      <td>0.868067</td>\n",
       "      <td>0.911170</td>\n",
       "      <td>0.854385</td>\n",
       "    </tr>\n",
       "    <tr>\n",
       "      <th>5</th>\n",
       "      <td>0.868214</td>\n",
       "      <td>0.864999</td>\n",
       "      <td>0.852909</td>\n",
       "      <td>0.863074</td>\n",
       "      <td>0.855532</td>\n",
       "      <td>0.903685</td>\n",
       "      <td>0.843647</td>\n",
       "    </tr>\n",
       "    <tr>\n",
       "      <th>6</th>\n",
       "      <td>0.894004</td>\n",
       "      <td>0.867012</td>\n",
       "      <td>0.890121</td>\n",
       "      <td>0.865853</td>\n",
       "      <td>0.862338</td>\n",
       "      <td>0.900694</td>\n",
       "      <td>0.845994</td>\n",
       "    </tr>\n",
       "    <tr>\n",
       "      <th>7</th>\n",
       "      <td>0.879838</td>\n",
       "      <td>0.871216</td>\n",
       "      <td>0.882594</td>\n",
       "      <td>0.869197</td>\n",
       "      <td>0.859881</td>\n",
       "      <td>0.904134</td>\n",
       "      <td>0.849637</td>\n",
       "    </tr>\n",
       "    <tr>\n",
       "      <th>8</th>\n",
       "      <td>0.896255</td>\n",
       "      <td>0.866607</td>\n",
       "      <td>0.880135</td>\n",
       "      <td>0.865453</td>\n",
       "      <td>0.858216</td>\n",
       "      <td>0.898444</td>\n",
       "      <td>0.851526</td>\n",
       "    </tr>\n",
       "    <tr>\n",
       "      <th>9</th>\n",
       "      <td>0.817952</td>\n",
       "      <td>0.840726</td>\n",
       "      <td>0.814597</td>\n",
       "      <td>0.839636</td>\n",
       "      <td>0.826154</td>\n",
       "      <td>0.872111</td>\n",
       "      <td>0.828671</td>\n",
       "    </tr>\n",
       "    <tr>\n",
       "      <th>10</th>\n",
       "      <td>0.902398</td>\n",
       "      <td>0.884467</td>\n",
       "      <td>0.886219</td>\n",
       "      <td>0.883195</td>\n",
       "      <td>0.872231</td>\n",
       "      <td>0.905372</td>\n",
       "      <td>0.858971</td>\n",
       "    </tr>\n",
       "    <tr>\n",
       "      <th>11</th>\n",
       "      <td>0.881640</td>\n",
       "      <td>0.864730</td>\n",
       "      <td>0.859473</td>\n",
       "      <td>0.864140</td>\n",
       "      <td>0.843572</td>\n",
       "      <td>0.885724</td>\n",
       "      <td>0.856671</td>\n",
       "    </tr>\n",
       "    <tr>\n",
       "      <th>12</th>\n",
       "      <td>0.846474</td>\n",
       "      <td>0.849012</td>\n",
       "      <td>0.845026</td>\n",
       "      <td>0.845731</td>\n",
       "      <td>0.831094</td>\n",
       "      <td>0.877703</td>\n",
       "      <td>0.836015</td>\n",
       "    </tr>\n",
       "    <tr>\n",
       "      <th>13</th>\n",
       "      <td>0.827095</td>\n",
       "      <td>0.839969</td>\n",
       "      <td>0.822331</td>\n",
       "      <td>0.836763</td>\n",
       "      <td>0.823627</td>\n",
       "      <td>0.866769</td>\n",
       "      <td>0.821225</td>\n",
       "    </tr>\n",
       "    <tr>\n",
       "      <th>14</th>\n",
       "      <td>0.888628</td>\n",
       "      <td>0.860980</td>\n",
       "      <td>0.863466</td>\n",
       "      <td>0.857579</td>\n",
       "      <td>0.836100</td>\n",
       "      <td>0.896302</td>\n",
       "      <td>0.847612</td>\n",
       "    </tr>\n",
       "    <tr>\n",
       "      <th>15</th>\n",
       "      <td>0.829750</td>\n",
       "      <td>0.834357</td>\n",
       "      <td>0.824827</td>\n",
       "      <td>0.831147</td>\n",
       "      <td>0.818356</td>\n",
       "      <td>0.882490</td>\n",
       "      <td>0.823950</td>\n",
       "    </tr>\n",
       "    <tr>\n",
       "      <th>16</th>\n",
       "      <td>0.863666</td>\n",
       "      <td>0.857192</td>\n",
       "      <td>0.861763</td>\n",
       "      <td>0.855324</td>\n",
       "      <td>0.837913</td>\n",
       "      <td>0.873032</td>\n",
       "      <td>0.843391</td>\n",
       "    </tr>\n",
       "    <tr>\n",
       "      <th>17</th>\n",
       "      <td>0.887713</td>\n",
       "      <td>0.867461</td>\n",
       "      <td>0.861599</td>\n",
       "      <td>0.862685</td>\n",
       "      <td>0.846559</td>\n",
       "      <td>0.906116</td>\n",
       "      <td>0.847607</td>\n",
       "    </tr>\n",
       "    <tr>\n",
       "      <th>18</th>\n",
       "      <td>0.871650</td>\n",
       "      <td>0.862666</td>\n",
       "      <td>0.850126</td>\n",
       "      <td>0.862896</td>\n",
       "      <td>0.848839</td>\n",
       "      <td>0.885520</td>\n",
       "      <td>0.850959</td>\n",
       "    </tr>\n",
       "    <tr>\n",
       "      <th>19</th>\n",
       "      <td>0.859537</td>\n",
       "      <td>0.871566</td>\n",
       "      <td>0.872351</td>\n",
       "      <td>0.864520</td>\n",
       "      <td>0.849921</td>\n",
       "      <td>0.896848</td>\n",
       "      <td>0.855986</td>\n",
       "    </tr>\n",
       "    <tr>\n",
       "      <th>20</th>\n",
       "      <td>0.827560</td>\n",
       "      <td>0.864129</td>\n",
       "      <td>0.865128</td>\n",
       "      <td>0.861370</td>\n",
       "      <td>0.840103</td>\n",
       "      <td>0.890399</td>\n",
       "      <td>0.841516</td>\n",
       "    </tr>\n",
       "    <tr>\n",
       "      <th>21</th>\n",
       "      <td>0.888032</td>\n",
       "      <td>0.870058</td>\n",
       "      <td>0.866240</td>\n",
       "      <td>0.868873</td>\n",
       "      <td>0.852679</td>\n",
       "      <td>0.890833</td>\n",
       "      <td>0.858749</td>\n",
       "    </tr>\n",
       "    <tr>\n",
       "      <th>22</th>\n",
       "      <td>0.888680</td>\n",
       "      <td>0.876959</td>\n",
       "      <td>0.882087</td>\n",
       "      <td>0.875368</td>\n",
       "      <td>0.863503</td>\n",
       "      <td>0.917076</td>\n",
       "      <td>0.858564</td>\n",
       "    </tr>\n",
       "    <tr>\n",
       "      <th>23</th>\n",
       "      <td>0.891638</td>\n",
       "      <td>0.872539</td>\n",
       "      <td>0.885650</td>\n",
       "      <td>0.870617</td>\n",
       "      <td>0.862875</td>\n",
       "      <td>0.898745</td>\n",
       "      <td>0.864178</td>\n",
       "    </tr>\n",
       "    <tr>\n",
       "      <th>24</th>\n",
       "      <td>0.842407</td>\n",
       "      <td>0.840302</td>\n",
       "      <td>0.842907</td>\n",
       "      <td>0.838981</td>\n",
       "      <td>0.825833</td>\n",
       "      <td>0.875997</td>\n",
       "      <td>0.828249</td>\n",
       "    </tr>\n",
       "    <tr>\n",
       "      <th>25</th>\n",
       "      <td>0.889059</td>\n",
       "      <td>0.860392</td>\n",
       "      <td>0.879652</td>\n",
       "      <td>0.859756</td>\n",
       "      <td>0.843677</td>\n",
       "      <td>0.896108</td>\n",
       "      <td>0.849524</td>\n",
       "    </tr>\n",
       "  </tbody>\n",
       "</table>\n",
       "</div>"
      ],
      "text/plain": [
       "    ourPreds  clusterGlobalPreds  labelShiftPreds  globalPreds  \\\n",
       "0   0.835291            0.836911         0.834190     0.835589   \n",
       "1   0.874630            0.854199         0.857362     0.851520   \n",
       "2   0.880579            0.867955         0.877876     0.865592   \n",
       "3   0.913335            0.875025         0.890190     0.872177   \n",
       "4   0.909269            0.874964         0.904797     0.873737   \n",
       "5   0.868214            0.864999         0.852909     0.863074   \n",
       "6   0.894004            0.867012         0.890121     0.865853   \n",
       "7   0.879838            0.871216         0.882594     0.869197   \n",
       "8   0.896255            0.866607         0.880135     0.865453   \n",
       "9   0.817952            0.840726         0.814597     0.839636   \n",
       "10  0.902398            0.884467         0.886219     0.883195   \n",
       "11  0.881640            0.864730         0.859473     0.864140   \n",
       "12  0.846474            0.849012         0.845026     0.845731   \n",
       "13  0.827095            0.839969         0.822331     0.836763   \n",
       "14  0.888628            0.860980         0.863466     0.857579   \n",
       "15  0.829750            0.834357         0.824827     0.831147   \n",
       "16  0.863666            0.857192         0.861763     0.855324   \n",
       "17  0.887713            0.867461         0.861599     0.862685   \n",
       "18  0.871650            0.862666         0.850126     0.862896   \n",
       "19  0.859537            0.871566         0.872351     0.864520   \n",
       "20  0.827560            0.864129         0.865128     0.861370   \n",
       "21  0.888032            0.870058         0.866240     0.868873   \n",
       "22  0.888680            0.876959         0.882087     0.875368   \n",
       "23  0.891638            0.872539         0.885650     0.870617   \n",
       "24  0.842407            0.840302         0.842907     0.838981   \n",
       "25  0.889059            0.860392         0.879652     0.859756   \n",
       "\n",
       "    groupAwareGlobalPreds      star        fe  \n",
       "0                0.819671  0.886011  0.823223  \n",
       "1                0.839524  0.882500  0.837787  \n",
       "2                0.850140  0.891639  0.852192  \n",
       "3                0.865679  0.919267  0.865157  \n",
       "4                0.868067  0.911170  0.854385  \n",
       "5                0.855532  0.903685  0.843647  \n",
       "6                0.862338  0.900694  0.845994  \n",
       "7                0.859881  0.904134  0.849637  \n",
       "8                0.858216  0.898444  0.851526  \n",
       "9                0.826154  0.872111  0.828671  \n",
       "10               0.872231  0.905372  0.858971  \n",
       "11               0.843572  0.885724  0.856671  \n",
       "12               0.831094  0.877703  0.836015  \n",
       "13               0.823627  0.866769  0.821225  \n",
       "14               0.836100  0.896302  0.847612  \n",
       "15               0.818356  0.882490  0.823950  \n",
       "16               0.837913  0.873032  0.843391  \n",
       "17               0.846559  0.906116  0.847607  \n",
       "18               0.848839  0.885520  0.850959  \n",
       "19               0.849921  0.896848  0.855986  \n",
       "20               0.840103  0.890399  0.841516  \n",
       "21               0.852679  0.890833  0.858749  \n",
       "22               0.863503  0.917076  0.858564  \n",
       "23               0.862875  0.898745  0.864178  \n",
       "24               0.825833  0.875997  0.828249  \n",
       "25               0.843677  0.896108  0.849524  "
      ]
     },
     "execution_count": 21,
     "metadata": {},
     "output_type": "execute_result"
    }
   ],
   "source": [
    "incomedf"
   ]
  },
  {
   "cell_type": "code",
   "execution_count": 25,
   "metadata": {},
   "outputs": [],
   "source": [
    "incomeavg = incomedf.apply(np.mean).sort_values()"
   ]
  },
  {
   "cell_type": "code",
   "execution_count": 26,
   "metadata": {},
   "outputs": [
    {
     "data": {
      "text/plain": [
       "fe                       0.845976\n",
       "groupAwareGlobalPreds    0.846234\n",
       "globalPreds              0.859261\n",
       "clusterGlobalPreds       0.861400\n",
       "labelShiftPreds          0.863601\n",
       "ourPreds                 0.871357\n",
       "star                     0.892873\n",
       "dtype: float64"
      ]
     },
     "execution_count": 26,
     "metadata": {},
     "output_type": "execute_result"
    }
   ],
   "source": [
    "incomeavg"
   ]
  },
  {
   "cell_type": "code",
   "execution_count": 27,
   "metadata": {},
   "outputs": [
    {
     "data": {
      "text/plain": [
       "0.02538090124467518"
      ]
     },
     "execution_count": 27,
     "metadata": {},
     "output_type": "execute_result"
    }
   ],
   "source": [
    "incomeavg.ourPreds - incomeavg.fe"
   ]
  },
  {
   "cell_type": "markdown",
   "metadata": {},
   "source": [
    "### Employment"
   ]
  },
  {
   "cell_type": "code",
   "execution_count": 18,
   "metadata": {
    "scrolled": true
   },
   "outputs": [],
   "source": [
    "employmentdf = pd.DataFrame.from_records([pd.Series(formatResults(ri)) for ri in results[\"employment\"]])"
   ]
  },
  {
   "cell_type": "code",
   "execution_count": 19,
   "metadata": {},
   "outputs": [
    {
     "data": {
      "text/html": [
       "<div>\n",
       "<style scoped>\n",
       "    .dataframe tbody tr th:only-of-type {\n",
       "        vertical-align: middle;\n",
       "    }\n",
       "\n",
       "    .dataframe tbody tr th {\n",
       "        vertical-align: top;\n",
       "    }\n",
       "\n",
       "    .dataframe thead th {\n",
       "        text-align: right;\n",
       "    }\n",
       "</style>\n",
       "<table border=\"1\" class=\"dataframe\">\n",
       "  <thead>\n",
       "    <tr style=\"text-align: right;\">\n",
       "      <th></th>\n",
       "      <th>ourPreds</th>\n",
       "      <th>clusterGlobalPreds</th>\n",
       "      <th>labelShiftPreds</th>\n",
       "      <th>globalPreds</th>\n",
       "      <th>groupAwareGlobalPreds</th>\n",
       "      <th>star</th>\n",
       "      <th>fe</th>\n",
       "    </tr>\n",
       "  </thead>\n",
       "  <tbody>\n",
       "    <tr>\n",
       "      <th>0</th>\n",
       "      <td>0.901696</td>\n",
       "      <td>0.894040</td>\n",
       "      <td>0.892131</td>\n",
       "      <td>0.891598</td>\n",
       "      <td>0.875829</td>\n",
       "      <td>0.924602</td>\n",
       "      <td>0.864504</td>\n",
       "    </tr>\n",
       "    <tr>\n",
       "      <th>1</th>\n",
       "      <td>0.902567</td>\n",
       "      <td>0.900360</td>\n",
       "      <td>0.901784</td>\n",
       "      <td>0.897850</td>\n",
       "      <td>0.877122</td>\n",
       "      <td>0.933802</td>\n",
       "      <td>0.867967</td>\n",
       "    </tr>\n",
       "    <tr>\n",
       "      <th>2</th>\n",
       "      <td>0.912355</td>\n",
       "      <td>0.898809</td>\n",
       "      <td>0.882411</td>\n",
       "      <td>0.895188</td>\n",
       "      <td>0.886079</td>\n",
       "      <td>0.916151</td>\n",
       "      <td>0.865734</td>\n",
       "    </tr>\n",
       "    <tr>\n",
       "      <th>3</th>\n",
       "      <td>0.925060</td>\n",
       "      <td>0.893530</td>\n",
       "      <td>0.912482</td>\n",
       "      <td>0.892941</td>\n",
       "      <td>0.883597</td>\n",
       "      <td>0.924832</td>\n",
       "      <td>0.871800</td>\n",
       "    </tr>\n",
       "    <tr>\n",
       "      <th>4</th>\n",
       "      <td>0.895062</td>\n",
       "      <td>0.885249</td>\n",
       "      <td>0.879485</td>\n",
       "      <td>0.882635</td>\n",
       "      <td>0.872283</td>\n",
       "      <td>0.916906</td>\n",
       "      <td>0.835805</td>\n",
       "    </tr>\n",
       "    <tr>\n",
       "      <th>5</th>\n",
       "      <td>0.943076</td>\n",
       "      <td>0.905189</td>\n",
       "      <td>0.940106</td>\n",
       "      <td>0.904166</td>\n",
       "      <td>0.886081</td>\n",
       "      <td>0.946594</td>\n",
       "      <td>0.868761</td>\n",
       "    </tr>\n",
       "    <tr>\n",
       "      <th>6</th>\n",
       "      <td>0.933788</td>\n",
       "      <td>0.896806</td>\n",
       "      <td>0.912811</td>\n",
       "      <td>0.893548</td>\n",
       "      <td>0.882873</td>\n",
       "      <td>0.935369</td>\n",
       "      <td>0.847739</td>\n",
       "    </tr>\n",
       "    <tr>\n",
       "      <th>7</th>\n",
       "      <td>0.947297</td>\n",
       "      <td>0.914520</td>\n",
       "      <td>0.936095</td>\n",
       "      <td>0.914951</td>\n",
       "      <td>0.873068</td>\n",
       "      <td>0.947281</td>\n",
       "      <td>0.850205</td>\n",
       "    </tr>\n",
       "    <tr>\n",
       "      <th>8</th>\n",
       "      <td>0.920628</td>\n",
       "      <td>0.898024</td>\n",
       "      <td>0.917588</td>\n",
       "      <td>0.895678</td>\n",
       "      <td>0.881886</td>\n",
       "      <td>0.928783</td>\n",
       "      <td>0.840700</td>\n",
       "    </tr>\n",
       "    <tr>\n",
       "      <th>9</th>\n",
       "      <td>0.898538</td>\n",
       "      <td>0.890943</td>\n",
       "      <td>0.895914</td>\n",
       "      <td>0.888545</td>\n",
       "      <td>0.870004</td>\n",
       "      <td>0.919945</td>\n",
       "      <td>0.869872</td>\n",
       "    </tr>\n",
       "    <tr>\n",
       "      <th>10</th>\n",
       "      <td>0.934101</td>\n",
       "      <td>0.910537</td>\n",
       "      <td>0.915719</td>\n",
       "      <td>0.910687</td>\n",
       "      <td>0.880917</td>\n",
       "      <td>0.939127</td>\n",
       "      <td>0.835884</td>\n",
       "    </tr>\n",
       "    <tr>\n",
       "      <th>11</th>\n",
       "      <td>0.914050</td>\n",
       "      <td>0.893771</td>\n",
       "      <td>0.896498</td>\n",
       "      <td>0.891035</td>\n",
       "      <td>0.875378</td>\n",
       "      <td>0.928707</td>\n",
       "      <td>0.863836</td>\n",
       "    </tr>\n",
       "    <tr>\n",
       "      <th>12</th>\n",
       "      <td>0.922802</td>\n",
       "      <td>0.895530</td>\n",
       "      <td>0.923250</td>\n",
       "      <td>0.893382</td>\n",
       "      <td>0.867877</td>\n",
       "      <td>0.938990</td>\n",
       "      <td>0.797063</td>\n",
       "    </tr>\n",
       "    <tr>\n",
       "      <th>13</th>\n",
       "      <td>0.930821</td>\n",
       "      <td>0.903760</td>\n",
       "      <td>0.906223</td>\n",
       "      <td>0.902620</td>\n",
       "      <td>0.869322</td>\n",
       "      <td>0.932117</td>\n",
       "      <td>0.859843</td>\n",
       "    </tr>\n",
       "    <tr>\n",
       "      <th>14</th>\n",
       "      <td>0.921016</td>\n",
       "      <td>0.900996</td>\n",
       "      <td>0.905396</td>\n",
       "      <td>0.900541</td>\n",
       "      <td>0.857090</td>\n",
       "      <td>0.921219</td>\n",
       "      <td>0.855435</td>\n",
       "    </tr>\n",
       "    <tr>\n",
       "      <th>15</th>\n",
       "      <td>0.919006</td>\n",
       "      <td>0.898691</td>\n",
       "      <td>0.905438</td>\n",
       "      <td>0.896497</td>\n",
       "      <td>0.884195</td>\n",
       "      <td>0.923038</td>\n",
       "      <td>0.864008</td>\n",
       "    </tr>\n",
       "    <tr>\n",
       "      <th>16</th>\n",
       "      <td>0.928936</td>\n",
       "      <td>0.900534</td>\n",
       "      <td>0.921059</td>\n",
       "      <td>0.895884</td>\n",
       "      <td>0.888539</td>\n",
       "      <td>0.925374</td>\n",
       "      <td>0.860174</td>\n",
       "    </tr>\n",
       "    <tr>\n",
       "      <th>17</th>\n",
       "      <td>0.879790</td>\n",
       "      <td>0.881454</td>\n",
       "      <td>0.873618</td>\n",
       "      <td>0.879949</td>\n",
       "      <td>0.853339</td>\n",
       "      <td>0.921212</td>\n",
       "      <td>0.838174</td>\n",
       "    </tr>\n",
       "    <tr>\n",
       "      <th>18</th>\n",
       "      <td>0.923056</td>\n",
       "      <td>0.902626</td>\n",
       "      <td>0.910462</td>\n",
       "      <td>0.899386</td>\n",
       "      <td>0.891832</td>\n",
       "      <td>0.927108</td>\n",
       "      <td>0.831092</td>\n",
       "    </tr>\n",
       "    <tr>\n",
       "      <th>19</th>\n",
       "      <td>0.920995</td>\n",
       "      <td>0.903419</td>\n",
       "      <td>0.911735</td>\n",
       "      <td>0.901159</td>\n",
       "      <td>0.863665</td>\n",
       "      <td>0.927712</td>\n",
       "      <td>0.831197</td>\n",
       "    </tr>\n",
       "    <tr>\n",
       "      <th>20</th>\n",
       "      <td>0.931976</td>\n",
       "      <td>0.904031</td>\n",
       "      <td>0.927999</td>\n",
       "      <td>0.901420</td>\n",
       "      <td>0.878816</td>\n",
       "      <td>0.931724</td>\n",
       "      <td>0.858001</td>\n",
       "    </tr>\n",
       "    <tr>\n",
       "      <th>21</th>\n",
       "      <td>0.891208</td>\n",
       "      <td>0.887927</td>\n",
       "      <td>0.878919</td>\n",
       "      <td>0.882760</td>\n",
       "      <td>0.861237</td>\n",
       "      <td>0.917807</td>\n",
       "      <td>0.843361</td>\n",
       "    </tr>\n",
       "    <tr>\n",
       "      <th>22</th>\n",
       "      <td>0.943079</td>\n",
       "      <td>0.913359</td>\n",
       "      <td>0.929523</td>\n",
       "      <td>0.911864</td>\n",
       "      <td>0.900358</td>\n",
       "      <td>0.941006</td>\n",
       "      <td>0.852535</td>\n",
       "    </tr>\n",
       "  </tbody>\n",
       "</table>\n",
       "</div>"
      ],
      "text/plain": [
       "    ourPreds  clusterGlobalPreds  labelShiftPreds  globalPreds  \\\n",
       "0   0.901696            0.894040         0.892131     0.891598   \n",
       "1   0.902567            0.900360         0.901784     0.897850   \n",
       "2   0.912355            0.898809         0.882411     0.895188   \n",
       "3   0.925060            0.893530         0.912482     0.892941   \n",
       "4   0.895062            0.885249         0.879485     0.882635   \n",
       "5   0.943076            0.905189         0.940106     0.904166   \n",
       "6   0.933788            0.896806         0.912811     0.893548   \n",
       "7   0.947297            0.914520         0.936095     0.914951   \n",
       "8   0.920628            0.898024         0.917588     0.895678   \n",
       "9   0.898538            0.890943         0.895914     0.888545   \n",
       "10  0.934101            0.910537         0.915719     0.910687   \n",
       "11  0.914050            0.893771         0.896498     0.891035   \n",
       "12  0.922802            0.895530         0.923250     0.893382   \n",
       "13  0.930821            0.903760         0.906223     0.902620   \n",
       "14  0.921016            0.900996         0.905396     0.900541   \n",
       "15  0.919006            0.898691         0.905438     0.896497   \n",
       "16  0.928936            0.900534         0.921059     0.895884   \n",
       "17  0.879790            0.881454         0.873618     0.879949   \n",
       "18  0.923056            0.902626         0.910462     0.899386   \n",
       "19  0.920995            0.903419         0.911735     0.901159   \n",
       "20  0.931976            0.904031         0.927999     0.901420   \n",
       "21  0.891208            0.887927         0.878919     0.882760   \n",
       "22  0.943079            0.913359         0.929523     0.911864   \n",
       "\n",
       "    groupAwareGlobalPreds      star        fe  \n",
       "0                0.875829  0.924602  0.864504  \n",
       "1                0.877122  0.933802  0.867967  \n",
       "2                0.886079  0.916151  0.865734  \n",
       "3                0.883597  0.924832  0.871800  \n",
       "4                0.872283  0.916906  0.835805  \n",
       "5                0.886081  0.946594  0.868761  \n",
       "6                0.882873  0.935369  0.847739  \n",
       "7                0.873068  0.947281  0.850205  \n",
       "8                0.881886  0.928783  0.840700  \n",
       "9                0.870004  0.919945  0.869872  \n",
       "10               0.880917  0.939127  0.835884  \n",
       "11               0.875378  0.928707  0.863836  \n",
       "12               0.867877  0.938990  0.797063  \n",
       "13               0.869322  0.932117  0.859843  \n",
       "14               0.857090  0.921219  0.855435  \n",
       "15               0.884195  0.923038  0.864008  \n",
       "16               0.888539  0.925374  0.860174  \n",
       "17               0.853339  0.921212  0.838174  \n",
       "18               0.891832  0.927108  0.831092  \n",
       "19               0.863665  0.927712  0.831197  \n",
       "20               0.878816  0.931724  0.858001  \n",
       "21               0.861237  0.917807  0.843361  \n",
       "22               0.900358  0.941006  0.852535  "
      ]
     },
     "execution_count": 19,
     "metadata": {},
     "output_type": "execute_result"
    }
   ],
   "source": [
    "employmentdf"
   ]
  },
  {
   "cell_type": "code",
   "execution_count": 28,
   "metadata": {},
   "outputs": [],
   "source": [
    "employmentavg = employmentdf.apply(np.mean).sort_values()"
   ]
  },
  {
   "cell_type": "code",
   "execution_count": 29,
   "metadata": {},
   "outputs": [
    {
     "data": {
      "text/plain": [
       "fe                       0.851030\n",
       "groupAwareGlobalPreds    0.876582\n",
       "globalPreds              0.896708\n",
       "clusterGlobalPreds       0.898874\n",
       "labelShiftPreds          0.907680\n",
       "ourPreds                 0.919170\n",
       "star                     0.929105\n",
       "dtype: float64"
      ]
     },
     "execution_count": 29,
     "metadata": {},
     "output_type": "execute_result"
    }
   ],
   "source": [
    "employmentavg"
   ]
  },
  {
   "cell_type": "code",
   "execution_count": 30,
   "metadata": {},
   "outputs": [
    {
     "data": {
      "text/plain": [
       "0.06813985303567938"
      ]
     },
     "execution_count": 30,
     "metadata": {},
     "output_type": "execute_result"
    }
   ],
   "source": [
    "employmentavg.ourPreds - employmentavg.fe"
   ]
  },
  {
   "cell_type": "markdown",
   "metadata": {},
   "source": [
    "### IPR"
   ]
  },
  {
   "cell_type": "code",
   "execution_count": 22,
   "metadata": {},
   "outputs": [],
   "source": [
    "iprdf = pd.DataFrame.from_records([pd.Series(formatResults(ri)) for ri in results[\"income_poverty_ratio\"]])"
   ]
  },
  {
   "cell_type": "code",
   "execution_count": 23,
   "metadata": {},
   "outputs": [
    {
     "data": {
      "text/html": [
       "<div>\n",
       "<style scoped>\n",
       "    .dataframe tbody tr th:only-of-type {\n",
       "        vertical-align: middle;\n",
       "    }\n",
       "\n",
       "    .dataframe tbody tr th {\n",
       "        vertical-align: top;\n",
       "    }\n",
       "\n",
       "    .dataframe thead th {\n",
       "        text-align: right;\n",
       "    }\n",
       "</style>\n",
       "<table border=\"1\" class=\"dataframe\">\n",
       "  <thead>\n",
       "    <tr style=\"text-align: right;\">\n",
       "      <th></th>\n",
       "      <th>ourPreds</th>\n",
       "      <th>clusterGlobalPreds</th>\n",
       "      <th>labelShiftPreds</th>\n",
       "      <th>globalPreds</th>\n",
       "      <th>groupAwareGlobalPreds</th>\n",
       "      <th>star</th>\n",
       "      <th>fe</th>\n",
       "    </tr>\n",
       "  </thead>\n",
       "  <tbody>\n",
       "    <tr>\n",
       "      <th>0</th>\n",
       "      <td>0.827332</td>\n",
       "      <td>0.810039</td>\n",
       "      <td>0.823528</td>\n",
       "      <td>0.801800</td>\n",
       "      <td>0.734310</td>\n",
       "      <td>0.841822</td>\n",
       "      <td>0.742381</td>\n",
       "    </tr>\n",
       "    <tr>\n",
       "      <th>1</th>\n",
       "      <td>0.861550</td>\n",
       "      <td>0.821813</td>\n",
       "      <td>0.827141</td>\n",
       "      <td>0.802796</td>\n",
       "      <td>0.784734</td>\n",
       "      <td>0.856243</td>\n",
       "      <td>0.766545</td>\n",
       "    </tr>\n",
       "    <tr>\n",
       "      <th>2</th>\n",
       "      <td>0.833891</td>\n",
       "      <td>0.808050</td>\n",
       "      <td>0.809373</td>\n",
       "      <td>0.800820</td>\n",
       "      <td>0.732483</td>\n",
       "      <td>0.835207</td>\n",
       "      <td>0.745396</td>\n",
       "    </tr>\n",
       "    <tr>\n",
       "      <th>3</th>\n",
       "      <td>0.808455</td>\n",
       "      <td>0.806337</td>\n",
       "      <td>0.785508</td>\n",
       "      <td>0.794522</td>\n",
       "      <td>0.767363</td>\n",
       "      <td>0.858728</td>\n",
       "      <td>0.766021</td>\n",
       "    </tr>\n",
       "    <tr>\n",
       "      <th>4</th>\n",
       "      <td>0.804011</td>\n",
       "      <td>0.796474</td>\n",
       "      <td>0.773932</td>\n",
       "      <td>0.783791</td>\n",
       "      <td>0.750455</td>\n",
       "      <td>0.849416</td>\n",
       "      <td>0.759603</td>\n",
       "    </tr>\n",
       "    <tr>\n",
       "      <th>5</th>\n",
       "      <td>0.831400</td>\n",
       "      <td>0.804313</td>\n",
       "      <td>0.802520</td>\n",
       "      <td>0.797825</td>\n",
       "      <td>0.759215</td>\n",
       "      <td>0.847082</td>\n",
       "      <td>0.748208</td>\n",
       "    </tr>\n",
       "    <tr>\n",
       "      <th>6</th>\n",
       "      <td>0.878165</td>\n",
       "      <td>0.811158</td>\n",
       "      <td>0.847258</td>\n",
       "      <td>0.806849</td>\n",
       "      <td>0.788757</td>\n",
       "      <td>0.878138</td>\n",
       "      <td>0.732386</td>\n",
       "    </tr>\n",
       "    <tr>\n",
       "      <th>7</th>\n",
       "      <td>0.853637</td>\n",
       "      <td>0.796755</td>\n",
       "      <td>0.821516</td>\n",
       "      <td>0.790859</td>\n",
       "      <td>0.761396</td>\n",
       "      <td>0.854231</td>\n",
       "      <td>0.742780</td>\n",
       "    </tr>\n",
       "    <tr>\n",
       "      <th>8</th>\n",
       "      <td>0.880023</td>\n",
       "      <td>0.818377</td>\n",
       "      <td>0.865550</td>\n",
       "      <td>0.811996</td>\n",
       "      <td>0.777723</td>\n",
       "      <td>0.881093</td>\n",
       "      <td>0.769233</td>\n",
       "    </tr>\n",
       "    <tr>\n",
       "      <th>9</th>\n",
       "      <td>0.821906</td>\n",
       "      <td>0.803777</td>\n",
       "      <td>0.819995</td>\n",
       "      <td>0.800729</td>\n",
       "      <td>0.744485</td>\n",
       "      <td>0.850653</td>\n",
       "      <td>0.714615</td>\n",
       "    </tr>\n",
       "    <tr>\n",
       "      <th>10</th>\n",
       "      <td>0.847666</td>\n",
       "      <td>0.816226</td>\n",
       "      <td>0.817269</td>\n",
       "      <td>0.800336</td>\n",
       "      <td>0.772939</td>\n",
       "      <td>0.854894</td>\n",
       "      <td>0.764895</td>\n",
       "    </tr>\n",
       "    <tr>\n",
       "      <th>11</th>\n",
       "      <td>0.848839</td>\n",
       "      <td>0.812051</td>\n",
       "      <td>0.836202</td>\n",
       "      <td>0.808229</td>\n",
       "      <td>0.764716</td>\n",
       "      <td>0.855798</td>\n",
       "      <td>0.764049</td>\n",
       "    </tr>\n",
       "    <tr>\n",
       "      <th>12</th>\n",
       "      <td>0.799698</td>\n",
       "      <td>0.786898</td>\n",
       "      <td>0.797048</td>\n",
       "      <td>0.782551</td>\n",
       "      <td>0.696031</td>\n",
       "      <td>0.844955</td>\n",
       "      <td>0.737550</td>\n",
       "    </tr>\n",
       "    <tr>\n",
       "      <th>13</th>\n",
       "      <td>0.844192</td>\n",
       "      <td>0.805425</td>\n",
       "      <td>0.808785</td>\n",
       "      <td>0.798856</td>\n",
       "      <td>0.775551</td>\n",
       "      <td>0.852950</td>\n",
       "      <td>0.733359</td>\n",
       "    </tr>\n",
       "    <tr>\n",
       "      <th>14</th>\n",
       "      <td>0.832022</td>\n",
       "      <td>0.796215</td>\n",
       "      <td>0.832669</td>\n",
       "      <td>0.795661</td>\n",
       "      <td>0.783237</td>\n",
       "      <td>0.849511</td>\n",
       "      <td>0.749549</td>\n",
       "    </tr>\n",
       "    <tr>\n",
       "      <th>15</th>\n",
       "      <td>0.827671</td>\n",
       "      <td>0.798100</td>\n",
       "      <td>0.788858</td>\n",
       "      <td>0.783093</td>\n",
       "      <td>0.721800</td>\n",
       "      <td>0.831910</td>\n",
       "      <td>0.711012</td>\n",
       "    </tr>\n",
       "    <tr>\n",
       "      <th>16</th>\n",
       "      <td>0.827269</td>\n",
       "      <td>0.804823</td>\n",
       "      <td>0.827680</td>\n",
       "      <td>0.804726</td>\n",
       "      <td>0.748336</td>\n",
       "      <td>0.855119</td>\n",
       "      <td>0.775112</td>\n",
       "    </tr>\n",
       "    <tr>\n",
       "      <th>17</th>\n",
       "      <td>0.840038</td>\n",
       "      <td>0.807270</td>\n",
       "      <td>0.809795</td>\n",
       "      <td>0.798747</td>\n",
       "      <td>0.764400</td>\n",
       "      <td>0.840200</td>\n",
       "      <td>0.753830</td>\n",
       "    </tr>\n",
       "    <tr>\n",
       "      <th>18</th>\n",
       "      <td>0.831600</td>\n",
       "      <td>0.809640</td>\n",
       "      <td>0.785131</td>\n",
       "      <td>0.791014</td>\n",
       "      <td>0.759620</td>\n",
       "      <td>0.854686</td>\n",
       "      <td>0.756648</td>\n",
       "    </tr>\n",
       "    <tr>\n",
       "      <th>19</th>\n",
       "      <td>0.792750</td>\n",
       "      <td>0.804037</td>\n",
       "      <td>0.765807</td>\n",
       "      <td>0.793467</td>\n",
       "      <td>0.745963</td>\n",
       "      <td>0.836822</td>\n",
       "      <td>0.731836</td>\n",
       "    </tr>\n",
       "    <tr>\n",
       "      <th>20</th>\n",
       "      <td>0.848612</td>\n",
       "      <td>0.796446</td>\n",
       "      <td>0.780443</td>\n",
       "      <td>0.767767</td>\n",
       "      <td>0.696246</td>\n",
       "      <td>0.831331</td>\n",
       "      <td>0.688678</td>\n",
       "    </tr>\n",
       "    <tr>\n",
       "      <th>21</th>\n",
       "      <td>0.851434</td>\n",
       "      <td>0.805207</td>\n",
       "      <td>0.830754</td>\n",
       "      <td>0.798925</td>\n",
       "      <td>0.770198</td>\n",
       "      <td>0.862824</td>\n",
       "      <td>0.746310</td>\n",
       "    </tr>\n",
       "    <tr>\n",
       "      <th>22</th>\n",
       "      <td>0.875787</td>\n",
       "      <td>0.822322</td>\n",
       "      <td>0.855570</td>\n",
       "      <td>0.809128</td>\n",
       "      <td>0.768740</td>\n",
       "      <td>0.869802</td>\n",
       "      <td>0.782491</td>\n",
       "    </tr>\n",
       "    <tr>\n",
       "      <th>23</th>\n",
       "      <td>0.842365</td>\n",
       "      <td>0.809409</td>\n",
       "      <td>0.819207</td>\n",
       "      <td>0.803118</td>\n",
       "      <td>0.793330</td>\n",
       "      <td>0.845795</td>\n",
       "      <td>0.728940</td>\n",
       "    </tr>\n",
       "    <tr>\n",
       "      <th>24</th>\n",
       "      <td>0.823847</td>\n",
       "      <td>0.806235</td>\n",
       "      <td>0.811122</td>\n",
       "      <td>0.801868</td>\n",
       "      <td>0.781146</td>\n",
       "      <td>0.851520</td>\n",
       "      <td>0.740031</td>\n",
       "    </tr>\n",
       "  </tbody>\n",
       "</table>\n",
       "</div>"
      ],
      "text/plain": [
       "    ourPreds  clusterGlobalPreds  labelShiftPreds  globalPreds  \\\n",
       "0   0.827332            0.810039         0.823528     0.801800   \n",
       "1   0.861550            0.821813         0.827141     0.802796   \n",
       "2   0.833891            0.808050         0.809373     0.800820   \n",
       "3   0.808455            0.806337         0.785508     0.794522   \n",
       "4   0.804011            0.796474         0.773932     0.783791   \n",
       "5   0.831400            0.804313         0.802520     0.797825   \n",
       "6   0.878165            0.811158         0.847258     0.806849   \n",
       "7   0.853637            0.796755         0.821516     0.790859   \n",
       "8   0.880023            0.818377         0.865550     0.811996   \n",
       "9   0.821906            0.803777         0.819995     0.800729   \n",
       "10  0.847666            0.816226         0.817269     0.800336   \n",
       "11  0.848839            0.812051         0.836202     0.808229   \n",
       "12  0.799698            0.786898         0.797048     0.782551   \n",
       "13  0.844192            0.805425         0.808785     0.798856   \n",
       "14  0.832022            0.796215         0.832669     0.795661   \n",
       "15  0.827671            0.798100         0.788858     0.783093   \n",
       "16  0.827269            0.804823         0.827680     0.804726   \n",
       "17  0.840038            0.807270         0.809795     0.798747   \n",
       "18  0.831600            0.809640         0.785131     0.791014   \n",
       "19  0.792750            0.804037         0.765807     0.793467   \n",
       "20  0.848612            0.796446         0.780443     0.767767   \n",
       "21  0.851434            0.805207         0.830754     0.798925   \n",
       "22  0.875787            0.822322         0.855570     0.809128   \n",
       "23  0.842365            0.809409         0.819207     0.803118   \n",
       "24  0.823847            0.806235         0.811122     0.801868   \n",
       "\n",
       "    groupAwareGlobalPreds      star        fe  \n",
       "0                0.734310  0.841822  0.742381  \n",
       "1                0.784734  0.856243  0.766545  \n",
       "2                0.732483  0.835207  0.745396  \n",
       "3                0.767363  0.858728  0.766021  \n",
       "4                0.750455  0.849416  0.759603  \n",
       "5                0.759215  0.847082  0.748208  \n",
       "6                0.788757  0.878138  0.732386  \n",
       "7                0.761396  0.854231  0.742780  \n",
       "8                0.777723  0.881093  0.769233  \n",
       "9                0.744485  0.850653  0.714615  \n",
       "10               0.772939  0.854894  0.764895  \n",
       "11               0.764716  0.855798  0.764049  \n",
       "12               0.696031  0.844955  0.737550  \n",
       "13               0.775551  0.852950  0.733359  \n",
       "14               0.783237  0.849511  0.749549  \n",
       "15               0.721800  0.831910  0.711012  \n",
       "16               0.748336  0.855119  0.775112  \n",
       "17               0.764400  0.840200  0.753830  \n",
       "18               0.759620  0.854686  0.756648  \n",
       "19               0.745963  0.836822  0.731836  \n",
       "20               0.696246  0.831331  0.688678  \n",
       "21               0.770198  0.862824  0.746310  \n",
       "22               0.768740  0.869802  0.782491  \n",
       "23               0.793330  0.845795  0.728940  \n",
       "24               0.781146  0.851520  0.740031  "
      ]
     },
     "execution_count": 23,
     "metadata": {},
     "output_type": "execute_result"
    }
   ],
   "source": [
    "iprdf"
   ]
  },
  {
   "cell_type": "code",
   "execution_count": 31,
   "metadata": {},
   "outputs": [],
   "source": [
    "ipravg = iprdf.apply(np.mean).sort_values()"
   ]
  },
  {
   "cell_type": "code",
   "execution_count": 32,
   "metadata": {},
   "outputs": [
    {
     "data": {
      "text/plain": [
       "fe                       0.746058\n",
       "groupAwareGlobalPreds    0.757727\n",
       "globalPreds              0.797179\n",
       "clusterGlobalPreds       0.806296\n",
       "labelShiftPreds          0.813706\n",
       "ourPreds                 0.837366\n",
       "star                     0.851629\n",
       "dtype: float64"
      ]
     },
     "execution_count": 32,
     "metadata": {},
     "output_type": "execute_result"
    }
   ],
   "source": [
    "ipravg"
   ]
  },
  {
   "cell_type": "code",
   "execution_count": 33,
   "metadata": {},
   "outputs": [
    {
     "data": {
      "text/plain": [
       "0.09130815408889348"
      ]
     },
     "execution_count": 33,
     "metadata": {},
     "output_type": "execute_result"
    }
   ],
   "source": [
    "ipravg.ourPreds - ipravg.fe"
   ]
  },
  {
   "cell_type": "markdown",
   "metadata": {},
   "source": [
    "### Amazon Reviews"
   ]
  },
  {
   "cell_type": "code",
   "execution_count": null,
   "metadata": {},
   "outputs": [],
   "source": [
    "pd.DataFrame.from_records([pd.Series(formatResults(ri)) for ri in results[\"amazon_reviews_pca\"]])"
   ]
  },
  {
   "cell_type": "code",
   "execution_count": null,
   "metadata": {},
   "outputs": [],
   "source": [
    "pd.DataFrame.from_records([pd.Series(formatResults(ri)) for ri in results[\"amazon_reviews_pca\"]]).apply(np.mean).sort_values()"
   ]
  },
  {
   "cell_type": "code",
   "execution_count": null,
   "metadata": {},
   "outputs": [],
   "source": []
  }
 ],
 "metadata": {
  "kernelspec": {
   "display_name": "Python [conda env:.conda-st2]",
   "language": "python",
   "name": "conda-env-.conda-st2-py"
  },
  "language_info": {
   "codemirror_mode": {
    "name": "ipython",
    "version": 3
   },
   "file_extension": ".py",
   "mimetype": "text/x-python",
   "name": "python",
   "nbconvert_exporter": "python",
   "pygments_lexer": "ipython3",
   "version": "3.9.13"
  }
 },
 "nbformat": 4,
 "nbformat_minor": 2
}
